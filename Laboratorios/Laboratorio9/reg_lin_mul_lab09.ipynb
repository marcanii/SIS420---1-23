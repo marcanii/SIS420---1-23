{
  "cells": [
    {
      "attachments": {},
      "cell_type": "markdown",
      "metadata": {
        "id": "fxYd72KmVn8x"
      },
      "source": [
        "# Ejercicio de programación Regresión Lineal Multiple"
      ]
    },
    {
      "cell_type": "code",
      "execution_count": 1,
      "metadata": {
        "id": "-NQwq_hsVn80"
      },
      "outputs": [],
      "source": [
        "# utilizado para manejos de directorios y rutas\n",
        "import os\n",
        "# Computacion vectorial y cientifica para python\n",
        "import numpy as np\n",
        "import pandas as pd\n",
        "# Librerias para graficación (trazado de gráficos)\n",
        "from matplotlib import pyplot\n",
        "import csv\n",
        "from mpl_toolkits.mplot3d import Axes3D  # Necesario para graficar superficies 3D"
      ]
    },
    {
      "attachments": {},
      "cell_type": "markdown",
      "metadata": {
        "id": "dl4y9LL2Vn81"
      },
      "source": [
        "## 2 Regresión lineal con multiples variables\n",
        "\n",
        "Se implementa la regresion lineal multivariable para predecir el precio de las casas. El archivo `realtor-data.csv` contiene un conjunto de entrenamiento de precios de casas en Portland, Oregon. La primera columna es el tamaño de la casa en metros cuadrados, la segunda columna es el numero de cuartos, y la tercera columna es el precio de la casa. \n",
        "\n",
        "<a id=\"section4\"></a>\n",
        "### 2.1 Normalización de caracteristicas\n",
        "\n",
        "Al visualizar los datos se puede observar que las caracteristicas tienen diferentes magnitudes, por lo cual se debe transformar cada valor en una escala de valores similares, esto con el fin de que el descenso por el gradiente pueda converger mas rapidamente."
      ]
    },
    {
      "cell_type": "code",
      "execution_count": 2,
      "metadata": {},
      "outputs": [
        {
          "data": {
            "text/html": [
              "<div>\n",
              "<style scoped>\n",
              "    .dataframe tbody tr th:only-of-type {\n",
              "        vertical-align: middle;\n",
              "    }\n",
              "\n",
              "    .dataframe tbody tr th {\n",
              "        vertical-align: top;\n",
              "    }\n",
              "\n",
              "    .dataframe thead th {\n",
              "        text-align: right;\n",
              "    }\n",
              "</style>\n",
              "<table border=\"1\" class=\"dataframe\">\n",
              "  <thead>\n",
              "    <tr style=\"text-align: right;\">\n",
              "      <th></th>\n",
              "      <th>status</th>\n",
              "      <th>bed</th>\n",
              "      <th>bath</th>\n",
              "      <th>acre_lot</th>\n",
              "      <th>city</th>\n",
              "      <th>state</th>\n",
              "      <th>zip_code</th>\n",
              "      <th>house_size</th>\n",
              "      <th>prev_sold_date</th>\n",
              "      <th>price</th>\n",
              "    </tr>\n",
              "  </thead>\n",
              "  <tbody>\n",
              "    <tr>\n",
              "      <th>0</th>\n",
              "      <td>for_sale</td>\n",
              "      <td>7.0</td>\n",
              "      <td>3.0</td>\n",
              "      <td>0.09</td>\n",
              "      <td>Dorado</td>\n",
              "      <td>Puerto Rico</td>\n",
              "      <td>949.0</td>\n",
              "      <td>1192.0</td>\n",
              "      <td>2019-06-28</td>\n",
              "      <td>110000.0</td>\n",
              "    </tr>\n",
              "    <tr>\n",
              "      <th>1</th>\n",
              "      <td>for_sale</td>\n",
              "      <td>7.0</td>\n",
              "      <td>3.0</td>\n",
              "      <td>0.09</td>\n",
              "      <td>Dorado</td>\n",
              "      <td>Puerto Rico</td>\n",
              "      <td>949.0</td>\n",
              "      <td>1192.0</td>\n",
              "      <td>2019-06-28</td>\n",
              "      <td>110000.0</td>\n",
              "    </tr>\n",
              "    <tr>\n",
              "      <th>2</th>\n",
              "      <td>for_sale</td>\n",
              "      <td>7.0</td>\n",
              "      <td>3.0</td>\n",
              "      <td>0.09</td>\n",
              "      <td>Dorado</td>\n",
              "      <td>Puerto Rico</td>\n",
              "      <td>949.0</td>\n",
              "      <td>1192.0</td>\n",
              "      <td>2019-06-28</td>\n",
              "      <td>110000.0</td>\n",
              "    </tr>\n",
              "    <tr>\n",
              "      <th>3</th>\n",
              "      <td>for_sale</td>\n",
              "      <td>7.0</td>\n",
              "      <td>3.0</td>\n",
              "      <td>0.09</td>\n",
              "      <td>Dorado</td>\n",
              "      <td>Puerto Rico</td>\n",
              "      <td>949.0</td>\n",
              "      <td>1192.0</td>\n",
              "      <td>2019-06-28</td>\n",
              "      <td>110000.0</td>\n",
              "    </tr>\n",
              "    <tr>\n",
              "      <th>4</th>\n",
              "      <td>for_sale</td>\n",
              "      <td>7.0</td>\n",
              "      <td>3.0</td>\n",
              "      <td>0.09</td>\n",
              "      <td>Dorado</td>\n",
              "      <td>Puerto Rico</td>\n",
              "      <td>949.0</td>\n",
              "      <td>1192.0</td>\n",
              "      <td>2019-06-28</td>\n",
              "      <td>110000.0</td>\n",
              "    </tr>\n",
              "    <tr>\n",
              "      <th>...</th>\n",
              "      <td>...</td>\n",
              "      <td>...</td>\n",
              "      <td>...</td>\n",
              "      <td>...</td>\n",
              "      <td>...</td>\n",
              "      <td>...</td>\n",
              "      <td>...</td>\n",
              "      <td>...</td>\n",
              "      <td>...</td>\n",
              "      <td>...</td>\n",
              "    </tr>\n",
              "    <tr>\n",
              "      <th>23599</th>\n",
              "      <td>for_sale</td>\n",
              "      <td>3.0</td>\n",
              "      <td>2.0</td>\n",
              "      <td>0.16</td>\n",
              "      <td>Worcester</td>\n",
              "      <td>Massachusetts</td>\n",
              "      <td>1604.0</td>\n",
              "      <td>1151.0</td>\n",
              "      <td>2001-08-29</td>\n",
              "      <td>274865.0</td>\n",
              "    </tr>\n",
              "    <tr>\n",
              "      <th>23600</th>\n",
              "      <td>for_sale</td>\n",
              "      <td>2.0</td>\n",
              "      <td>1.0</td>\n",
              "      <td>0.34</td>\n",
              "      <td>Auburn</td>\n",
              "      <td>Massachusetts</td>\n",
              "      <td>1501.0</td>\n",
              "      <td>1075.0</td>\n",
              "      <td>1999-06-07</td>\n",
              "      <td>349900.0</td>\n",
              "    </tr>\n",
              "    <tr>\n",
              "      <th>23601</th>\n",
              "      <td>for_sale</td>\n",
              "      <td>3.0</td>\n",
              "      <td>2.0</td>\n",
              "      <td>1.01</td>\n",
              "      <td>Shrewsbury</td>\n",
              "      <td>Massachusetts</td>\n",
              "      <td>1545.0</td>\n",
              "      <td>1632.0</td>\n",
              "      <td>1995-09-27</td>\n",
              "      <td>549000.0</td>\n",
              "    </tr>\n",
              "    <tr>\n",
              "      <th>23602</th>\n",
              "      <td>for_sale</td>\n",
              "      <td>3.0</td>\n",
              "      <td>2.0</td>\n",
              "      <td>0.12</td>\n",
              "      <td>Worcester</td>\n",
              "      <td>Massachusetts</td>\n",
              "      <td>1604.0</td>\n",
              "      <td>1332.0</td>\n",
              "      <td>2000-09-11</td>\n",
              "      <td>299000.0</td>\n",
              "    </tr>\n",
              "    <tr>\n",
              "      <th>23603</th>\n",
              "      <td>for_sale</td>\n",
              "      <td>3.0</td>\n",
              "      <td>3.0</td>\n",
              "      <td>21.67</td>\n",
              "      <td>Grafton</td>\n",
              "      <td>Massachusetts</td>\n",
              "      <td>1536.0</td>\n",
              "      <td>1846.0</td>\n",
              "      <td>2020-10-06</td>\n",
              "      <td>535000.0</td>\n",
              "    </tr>\n",
              "  </tbody>\n",
              "</table>\n",
              "<p>23604 rows × 10 columns</p>\n",
              "</div>"
            ],
            "text/plain": [
              "         status  bed  bath  acre_lot        city          state  zip_code   \n",
              "0      for_sale  7.0   3.0      0.09      Dorado    Puerto Rico     949.0  \\\n",
              "1      for_sale  7.0   3.0      0.09      Dorado    Puerto Rico     949.0   \n",
              "2      for_sale  7.0   3.0      0.09      Dorado    Puerto Rico     949.0   \n",
              "3      for_sale  7.0   3.0      0.09      Dorado    Puerto Rico     949.0   \n",
              "4      for_sale  7.0   3.0      0.09      Dorado    Puerto Rico     949.0   \n",
              "...         ...  ...   ...       ...         ...            ...       ...   \n",
              "23599  for_sale  3.0   2.0      0.16   Worcester  Massachusetts    1604.0   \n",
              "23600  for_sale  2.0   1.0      0.34      Auburn  Massachusetts    1501.0   \n",
              "23601  for_sale  3.0   2.0      1.01  Shrewsbury  Massachusetts    1545.0   \n",
              "23602  for_sale  3.0   2.0      0.12   Worcester  Massachusetts    1604.0   \n",
              "23603  for_sale  3.0   3.0     21.67     Grafton  Massachusetts    1536.0   \n",
              "\n",
              "       house_size prev_sold_date     price  \n",
              "0          1192.0     2019-06-28  110000.0  \n",
              "1          1192.0     2019-06-28  110000.0  \n",
              "2          1192.0     2019-06-28  110000.0  \n",
              "3          1192.0     2019-06-28  110000.0  \n",
              "4          1192.0     2019-06-28  110000.0  \n",
              "...           ...            ...       ...  \n",
              "23599      1151.0     2001-08-29  274865.0  \n",
              "23600      1075.0     1999-06-07  349900.0  \n",
              "23601      1632.0     1995-09-27  549000.0  \n",
              "23602      1332.0     2000-09-11  299000.0  \n",
              "23603      1846.0     2020-10-06  535000.0  \n",
              "\n",
              "[23604 rows x 10 columns]"
            ]
          },
          "execution_count": 2,
          "metadata": {},
          "output_type": "execute_result"
        }
      ],
      "source": [
        "data = pd.read_csv('realtor-data.csv')\n",
        "data"
      ]
    },
    {
      "cell_type": "code",
      "execution_count": 3,
      "metadata": {},
      "outputs": [],
      "source": [
        "# Abrir el archivo CSV para lectura\n",
        "with open('realtor-data.csv', 'r') as file:\n",
        "    # Crear un objeto lector CSV\n",
        "    reader = csv.reader(file)\n",
        "    # Leer todas las filas en una lista y saltar la primera fila\n",
        "    rows = [row for i, row in enumerate(reader) if i > 0]\n",
        "    # Convertir la lista de filas en una matriz numpy\n",
        "    data = np.array(rows)\n",
        "    # Obtener las columnas de la matriz\n",
        "    col1 = data[:, 1] # numero de habitaciones\n",
        "    col2 = data[:, 2] # numero de baños\n",
        "    col3 = data[:, 3] # tamaño del lote en 100000s\n",
        "    col4 = data[:, 6] # codigo postal\n",
        "    col5 = data[:, 7] # tamaño de la casa en metros\n",
        "    y = data[:, 9] # precio de la casa"
      ]
    },
    {
      "cell_type": "code",
      "execution_count": 5,
      "metadata": {},
      "outputs": [],
      "source": [
        "# Convertir los arreglos de x de strings a un arreglo de floats\n",
        "col1 = col1.astype(np.float64).reshape(-1, 1)\n",
        "col2 = col2.astype(np.float64).reshape(-1, 1)\n",
        "col3 = col3.astype(np.float64).reshape(-1, 1)\n",
        "col4 = col4.astype(np.float64).reshape(-1, 1)\n",
        "col5 = col5.astype(np.float64).reshape(-1, 1)"
      ]
    },
    {
      "cell_type": "code",
      "execution_count": 28,
      "metadata": {},
      "outputs": [
        {
          "data": {
            "text/plain": [
              "<matplotlib.collections.PathCollection at 0x21ee5ae9550>"
            ]
          },
          "execution_count": 28,
          "metadata": {},
          "output_type": "execute_result"
        },
        {
          "data": {
            "image/png": "[encoded data removed]",
            "text/plain": [
              "<Figure size 640x480 with 1 Axes>"
            ]
          },
          "metadata": {},
          "output_type": "display_data"
        }
      ],
      "source": [
        "pyplot.scatter(x=col5, y=y)"
      ]
    },
    {
      "cell_type": "code",
      "execution_count": 6,
      "metadata": {},
      "outputs": [],
      "source": [
        "# Convertir los arreglos de x de strings a un arreglo de floats\n",
        "y = y.astype(np.float64)"
      ]
    },
    {
      "cell_type": "code",
      "execution_count": 7,
      "metadata": {},
      "outputs": [],
      "source": [
        "# Unir los dos vectores en una matriz de dos columnas\n",
        "x = np.hstack((col1, col2, col3, col4, col5))\n",
        "x_para_normal = x"
      ]
    },
    {
      "cell_type": "code",
      "execution_count": 8,
      "metadata": {},
      "outputs": [
        {
          "name": "stdout",
          "output_type": "stream",
          "text": [
            "  X[:,0] X[:, 1] X[:, 2] X[:, 3] X[:, 4]         y\n",
            "----------------------------------------------------\n",
            "       7       3       0     949    1192    110000\n",
            "       7       3       0     949    1192    110000\n",
            "       7       3       0     949    1192    110000\n",
            "       7       3       0     949    1192    110000\n",
            "       7       3       0     949    1192    110000\n",
            "       5       4       1     802    5000    950000\n",
            "       4       6       1     802    4600   6899000\n",
            "       4       6       1     802    4600   6899000\n",
            "       4       6       1     802    4600   6899000\n",
            "       7       3       0     949    1192    110000\n"
          ]
        }
      ],
      "source": [
        "# imprimir algunos puntos de datos\n",
        "print('{:>8s}{:>8s}{:>8s}{:>8s}{:>8s}{:>10s}'.format('X[:,0]', 'X[:, 1]', 'X[:, 2]', 'X[:, 3]', 'X[:, 4]', 'y'))\n",
        "print('-'*52)\n",
        "for i in range(10):\n",
        "    print('{:8.0f}{:8.0f}{:8.0f}{:8.0f}{:8.0f}{:10.0f}'.format(x[i, 0], x[i, 1], x[i, 2], x[i, 3], x[i, 4], y[i]))"
      ]
    },
    {
      "attachments": {},
      "cell_type": "markdown",
      "metadata": {
        "id": "pP-oF-Y8W3zp"
      },
      "source": [
        "## 2 Regresión lineal con multiples variables\n",
        "\n",
        "Se implementa la regresion lineal multivariable para predecir el precio de las casas. El archivo `Datasets/ex1data2.txt` contiene un conjunto de entrenamiento de precios de casas en Portland, Oregon. La primera columna es el tamaño de la casa en metros cuadrados, la segunda columna es el numero de cuartos, y la tercera columna es el precio de la casa. \n",
        "\n",
        "<a id=\"section4\"></a>\n",
        "### 2.1 Normalización de caracteristicas\n",
        "\n",
        "Al visualizar los datos se puede observar que las caracteristicas tienen diferentes magnitudes, por lo cual se debe transformar cada valor en una escala de valores similares, esto con el fin de que el descenso por el gradiente pueda converger mas rapidamente."
      ]
    },
    {
      "attachments": {},
      "cell_type": "markdown",
      "metadata": {
        "id": "Lr8JRNkyVn82"
      },
      "source": [
        "La desviación estándar es una forma de medir cuánta variación hay en el rango de valores de una característica en particular (la mayoría de los puntos caeran en un rango de ± 2 en relación a la desviaciones estándar de la media); esta es una alternativa a tomar el rango de valores (max-min). En `numpy`, se puede usar la función `std` para calcular la desviacion estandar. \n",
        "\n",
        "Por ejemplo, la caracteristica`X[:, 0]` contiene todos los valores de $x_1$ (tamaño de las casas) en el conjunto de entrenamiento, entonces `np.std(X[:, 0])` calcula la desviacion estandar de los tamaños de las casas.\n",
        "En el momento en que se llama a la función `featureNormalize`, la columna adicional de unos correspondiente a $ x_0 = 1 $ aún no se ha agregado a $ X $. \n",
        "\n",
        "<div class=\"alert alert-block alert-warning\">\n",
        "**Notas para la implementación:** Cuando se normalize una caracteristica, es importante almacenar los valores usados para la normalización - el valor de la media y el valor de la desviación estandar usado para los calculos. Despues de aprender los parametros del modelo, se deseara predecir los precios de casas que no se han visto antes. Dado un nuevo valor de x (area del living room y el numero de dormitorios), primero se debe normalizar x usando la media y la desviacion estandar que se empleo anteriormente en el conjunto de entrenamiento para entrenar el modelo.\n",
        "</div>\n",
        "<a id=\"featureNormalize\"></a>"
      ]
    },
    {
      "cell_type": "code",
      "execution_count": 9,
      "metadata": {
        "id": "dgT4rR9iVn82"
      },
      "outputs": [],
      "source": [
        "def  featureNormalize(X):\n",
        "    X_norm = X.copy()\n",
        "    mu = np.zeros(X.shape[1])\n",
        "    sigma = np.zeros(X.shape[1])\n",
        "\n",
        "    mu = np.mean(X, axis = 0)\n",
        "    sigma = np.std(X, axis = 0)\n",
        "    X_norm = (X - mu) / sigma\n",
        "    \n",
        "    return X_norm, mu, sigma"
      ]
    },
    {
      "cell_type": "code",
      "execution_count": 10,
      "metadata": {
        "colab": {
          "base_uri": "https://localhost:8080/"
        },
        "id": "MfiaMoWEVn82",
        "outputId": "6b209ab7-7e33-4b04-ecfc-6efcef9d9bf1"
      },
      "outputs": [
        {
          "name": "stdout",
          "output_type": "stream",
          "text": [
            "[[7.000e+00 3.000e+00 9.000e-02 9.490e+02 1.192e+03]\n",
            " [7.000e+00 3.000e+00 9.000e-02 9.490e+02 1.192e+03]\n",
            " [7.000e+00 3.000e+00 9.000e-02 9.490e+02 1.192e+03]\n",
            " ...\n",
            " [3.000e+00 2.000e+00 1.010e+00 1.545e+03 1.632e+03]\n",
            " [3.000e+00 2.000e+00 1.200e-01 1.604e+03 1.332e+03]\n",
            " [3.000e+00 3.000e+00 2.167e+01 1.536e+03 1.846e+03]]\n",
            "Media calculada: [3.77025080e+00 2.47246229e+00 2.43560625e+00 2.91124788e+03\n",
            " 2.23017510e+03]\n",
            "Desviación estandar calculada: [1.72089876e+00 1.41470927e+00 1.39227190e+01 2.44480109e+03\n",
            " 1.51328668e+03]\n",
            "[[ 1.87678047  0.37289478 -0.16847329 -0.80262067 -0.68603993]\n",
            " [ 1.87678047  0.37289478 -0.16847329 -0.80262067 -0.68603993]\n",
            " [ 1.87678047  0.37289478 -0.16847329 -0.80262067 -0.68603993]\n",
            " ...\n",
            " [-0.44758636 -0.33396423 -0.10239424 -0.55883805 -0.39528207]\n",
            " [-0.44758636 -0.33396423 -0.16631854 -0.53470521 -0.59352607]\n",
            " [-0.44758636  0.37289478  1.3815113  -0.56251933 -0.25386802]]\n"
          ]
        }
      ],
      "source": [
        "# llama featureNormalize con los datos cargados\n",
        "X_norm, mu, sigma = featureNormalize(x)\n",
        "\n",
        "print(x)\n",
        "print('Media calculada:', mu)\n",
        "print('Desviación estandar calculada:', sigma)\n",
        "print(X_norm)"
      ]
    },
    {
      "attachments": {},
      "cell_type": "markdown",
      "metadata": {
        "id": "pDbib1JVVn82"
      },
      "source": [
        "Despues de `featureNormalize` la funcion es provada, se añade el temino de interseccion a `X_norm`:"
      ]
    },
    {
      "cell_type": "code",
      "execution_count": 11,
      "metadata": {
        "id": "qXpGaaD0Vn83"
      },
      "outputs": [],
      "source": [
        "# Añade el termino de interseccion a X\n",
        "# (Columna de unos para X0)\n",
        "m = y.size\n",
        "x = np.concatenate([np.ones((m, 1)), X_norm], axis=1)"
      ]
    },
    {
      "cell_type": "code",
      "execution_count": 12,
      "metadata": {
        "colab": {
          "base_uri": "https://localhost:8080/"
        },
        "id": "Pzz24OdaVn83",
        "outputId": "b0b48ef2-c6e9-47f6-df19-3df239aacf49"
      },
      "outputs": [
        {
          "name": "stdout",
          "output_type": "stream",
          "text": [
            "[[ 1.          1.87678047  0.37289478 -0.16847329 -0.80262067 -0.68603993]\n",
            " [ 1.          1.87678047  0.37289478 -0.16847329 -0.80262067 -0.68603993]\n",
            " [ 1.          1.87678047  0.37289478 -0.16847329 -0.80262067 -0.68603993]\n",
            " ...\n",
            " [ 1.         -0.44758636 -0.33396423 -0.10239424 -0.55883805 -0.39528207]\n",
            " [ 1.         -0.44758636 -0.33396423 -0.16631854 -0.53470521 -0.59352607]\n",
            " [ 1.         -0.44758636  0.37289478  1.3815113  -0.56251933 -0.25386802]]\n"
          ]
        }
      ],
      "source": [
        "print(x)"
      ]
    },
    {
      "attachments": {},
      "cell_type": "markdown",
      "metadata": {
        "id": "V54HlIKAVn83"
      },
      "source": [
        "<a id=\"section5\"></a>\n",
        "### 2.2 Descenso por el gradiente\n",
        "\n",
        "En el ejemplo anterior se implemento el descenso por el gradiente para un problema de regresion univariable. La unica diferencia es que ahora existe una caracteristica adicional en la matriz $X$. La función de hipótesis y la regla de actualización del descenso del gradiente por lotes permanecen sin cambios.\n",
        "\n",
        "La implementacion de las funciones `computeCostMulti` y `gradientDescentMulti` son similares a la funcion de costo y función de descenso por el gradiente de la regresión lineal multiple es similar al de la regresion lineal multivariable. Es importante garantizar que el codigo soporte cualquier numero de caracteristicas y esten bien vectorizadas.\n",
        "\n",
        "Se puede utilizar `shape`, propiedad de los arrays `numpy`, para identificar cuantas caracteristicas estan consideradas en el dataset.\n",
        "\n",
        "<div class=\"alert alert-block alert-warning\">\n",
        "**Nota de implementación:** En el caso de multivariables, la función de costo puede se escrita considerando la forma vectorizada de la siguiente manera:\n",
        "\n",
        "$$ J(\\theta) = \\frac{1}{2m}(X\\theta - \\vec{y})^T(X\\theta - \\vec{y}) $$\n",
        "\n",
        "donde:\n",
        "\n",
        "$$ X = \\begin{pmatrix}\n",
        "          - (x^{(1)})^T - \\\\\n",
        "          - (x^{(2)})^T - \\\\\n",
        "          \\vdots \\\\\n",
        "          - (x^{(m)})^T - \\\\ \\\\\n",
        "        \\end{pmatrix} \\qquad \\mathbf{y} = \\begin{bmatrix} y^{(1)} \\\\ y^{(2)} \\\\ \\vdots \\\\ y^{(m)} \\\\\\end{bmatrix}$$\n",
        "\n",
        "La version vectorizada es eficiente cuando se trabaja con herramientas de calculo numericos computacional como `numpy`. \n",
        "</div>\n",
        "\n",
        "<a id=\"computeCostMulti\"></a>"
      ]
    },
    {
      "cell_type": "code",
      "execution_count": 13,
      "metadata": {
        "id": "R5xCTuCUVn83"
      },
      "outputs": [],
      "source": [
        "def computeCostMulti(X, y, theta):\n",
        "    # Inicializa algunos valores utiles\n",
        "    m = y.shape[0] # numero de ejemplos de entrenamiento\n",
        "    J = 0\n",
        "    h = np.dot(X, theta)\n",
        "    J = (1/(2 * m)) * np.sum(np.square(np.dot(X, theta) - y))\n",
        "    return J"
      ]
    },
    {
      "cell_type": "code",
      "execution_count": 14,
      "metadata": {
        "id": "1FbQyFHtVn83"
      },
      "outputs": [],
      "source": [
        "def gradientDescentMulti(X, y, theta, alpha, num_iters):\n",
        "    # Inicializa algunos valores \n",
        "    m = y.shape[0] # numero de ejemplos de entrenamiento\n",
        "    # realiza una copia de theta, el cual será acutalizada por el descenso por el gradiente\n",
        "    theta = theta.copy()\n",
        "    J_history = []\n",
        "    \n",
        "    for i in range(num_iters):\n",
        "        theta = theta - (alpha / m) * (np.dot(X, theta) - y).dot(X)\n",
        "        J_history.append(computeCostMulti(X, y, theta))\n",
        "    \n",
        "    return theta, J_history"
      ]
    },
    {
      "attachments": {},
      "cell_type": "markdown",
      "metadata": {
        "id": "dJ2VxNfaVn83"
      },
      "source": [
        "#### 3.2.1 Seleccionando coheficientes de aprendizaje\n"
      ]
    },
    {
      "cell_type": "code",
      "execution_count": 15,
      "metadata": {
        "colab": {
          "base_uri": "https://localhost:8080/",
          "height": 500
        },
        "id": "K4gVCgsfVn84",
        "outputId": "fb1164ee-0e3c-45eb-ad9a-e606a6012e1e"
      },
      "outputs": [
        {
          "name": "stdout",
          "output_type": "stream",
          "text": [
            "theta calculado por el descenso por el gradiente: [480619.46831562 -57647.05624242  93089.88191284 698186.66988212\n",
            " -14632.5919392  333299.10482518]\n"
          ]
        },
        {
          "data": {
            "image/png": "[encoded data removed]",
            "text/plain": [
              "<Figure size 640x480 with 1 Axes>"
            ]
          },
          "metadata": {},
          "output_type": "display_data"
        }
      ],
      "source": [
        "# Elegir algun valor para alpha (probar varias alternativas)\n",
        "alpha = 0.003 # alpha = 0.003\n",
        "num_iters = 1100\n",
        "\n",
        "# inicializa theta y ejecuta el descenso por el gradiente\n",
        "theta = np.zeros(6)\n",
        "theta, J_history = gradientDescentMulti(x, y, theta, alpha, num_iters)\n",
        "\n",
        "# Grafica la convergencia del costo\n",
        "pyplot.plot(np.arange(len(J_history)), J_history, lw=2)\n",
        "pyplot.xlabel('Numero de iteraciones')\n",
        "pyplot.ylabel('Costo J')\n",
        "\n",
        "# Muestra los resultados del descenso por el gradiente\n",
        "print('theta calculado por el descenso por el gradiente: {:s}'.format(str(theta)))"
      ]
    },
    {
      "cell_type": "code",
      "execution_count": 16,
      "metadata": {
        "id": "5Bqbn4VtVn84"
      },
      "outputs": [
        {
          "name": "stdout",
          "output_type": "stream",
          "text": [
            "El precio predecido para una casa (usando el descenso por el gradiente) es: $84976.08\n"
          ]
        }
      ],
      "source": [
        "# Estimar el precio para una casa con las siguientes caracteristicas\n",
        "num_habitaciones = 3 # numero de camas\n",
        "num_baños = 2 # numero de baños\n",
        "tam_lote = 0.13 # tamaño del lote en 100000s\n",
        "cod_postal = 601 # codigo postal\n",
        "tam_casa = 920 # tamaño de la casa en metros\n",
        "\n",
        "X_array = [1, num_habitaciones, num_baños, tam_lote, cod_postal, tam_casa]\n",
        "X_array[1:6] = (X_array[1:6] - mu) / sigma\n",
        "price = np.dot(X_array, theta)   # Se debe cambiar esto\n",
        "\n",
        "print('El precio predecido para una casa (usando el descenso por el gradiente) es: ${:.2f}'.format(price))\n"
      ]
    },
    {
      "attachments": {},
      "cell_type": "markdown",
      "metadata": {
        "id": "Tq1EPGUHVn84"
      },
      "source": [
        "<a id=\"section7\"></a>\n",
        "### 2.3 Ecuacion de la Normal\n",
        "\n",
        "Una manera de calcular rapidamente el modelo de una regresion lineal es:\n",
        "\n",
        "$$ \\theta = \\left( X^T X\\right)^{-1} X^T\\vec{y}$$\n",
        "\n",
        "Utilizando esta formula no requiere que se escale ninguna caracteristica, y se obtendra una solucion exacta con un solo calculo: no hay “bucles de convergencia” como en el descenso por el gradiente. \n",
        "\n",
        "Primero se recargan los datos para garantizar que las variables no esten modificadas. Recordar que no es necesario escalar las caracteristicas, se debe agregar la columna de unos a la matriz $X$ para tener el termino de intersección($\\theta_0$). "
      ]
    },
    {
      "cell_type": "code",
      "execution_count": 17,
      "metadata": {
        "id": "JQrs-6cGVn84"
      },
      "outputs": [],
      "source": [
        "def normalEqn(X, y):\n",
        "    theta = np.zeros(X.shape[1])\n",
        "    theta = np.dot(np.dot(np.linalg.inv(np.dot(X.T,X)),X.T),y)\n",
        "    return theta"
      ]
    },
    {
      "cell_type": "code",
      "execution_count": 18,
      "metadata": {},
      "outputs": [],
      "source": [
        "# añadimos unos a la primera columna\n",
        "x_para_normal = np.concatenate([np.ones((m, 1)), x_para_normal], axis=1)"
      ]
    },
    {
      "cell_type": "code",
      "execution_count": 19,
      "metadata": {
        "id": "d0OzpOyyVn84"
      },
      "outputs": [
        {
          "name": "stdout",
          "output_type": "stream",
          "text": [
            "Theta calculado a partir de la ecuación de la normal: [-6.55651372e+04 -5.63570843e+04  2.66272142e+02  5.10742245e+04\n",
            " -6.00331221e+00  3.00154962e+02]\n",
            "Precio predecido para una casa (usando la ecuación de la normal): $45070.38\n"
          ]
        }
      ],
      "source": [
        "# Calcula los parametros con la ecuación de la normal\n",
        "theta = normalEqn(x_para_normal, y);\n",
        "# Muestra los resultados optenidos a partir de la aplicación de la ecuación de la normal\n",
        "print('Theta calculado a partir de la ecuación de la normal: {:s}'.format(str(theta)));\n",
        "# Estimar el precio para una casa de superficie de 1650 sq-ft y tres dormitorios\n",
        "\n",
        "X_array = [1, num_habitaciones, num_baños, tam_lote, cod_postal, tam_casa]\n",
        "price = np.dot(X_array, theta) \n",
        "\n",
        "print('Precio predecido para una casa (usando la ecuación de la normal): ${:.2f}'.format(price))\n"
      ]
    }
  ],
  "metadata": {
    "colab": {
      "provenance": []
    },
    "kernelspec": {
      "display_name": "Python 3",
      "language": "python",
      "name": "python3"
    },
    "language_info": {
      "codemirror_mode": {
        "name": "ipython",
        "version": 3
      },
      "file_extension": ".py",
      "mimetype": "text/x-python",
      "name": "python",
      "nbconvert_exporter": "python",
      "pygments_lexer": "ipython3",
      "version": "3.11.2"
    }
  },
  "nbformat": 4,
  "nbformat_minor": 0
}
