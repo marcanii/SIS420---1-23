{
 "cells": [
  {
   "cell_type": "code",
   "execution_count": 150,
   "metadata": {},
   "outputs": [],
   "source": [
    "import pandas as pd\n",
    "# Computacion vectorial y cientifica para python\n",
    "import numpy as np\n",
    "import csv\n",
    "# Librerias para graficación (trazado de gráficos)\n",
    "from matplotlib import pyplot\n",
    "from mpl_toolkits.mplot3d import Axes3D  # Necesario para graficar superficies 3D"
   ]
  },
  {
   "cell_type": "code",
   "execution_count": 151,
   "metadata": {},
   "outputs": [
    {
     "data": {
      "text/html": [
       "<div>\n",
       "<style scoped>\n",
       "    .dataframe tbody tr th:only-of-type {\n",
       "        vertical-align: middle;\n",
       "    }\n",
       "\n",
       "    .dataframe tbody tr th {\n",
       "        vertical-align: top;\n",
       "    }\n",
       "\n",
       "    .dataframe thead th {\n",
       "        text-align: right;\n",
       "    }\n",
       "</style>\n",
       "<table border=\"1\" class=\"dataframe\">\n",
       "  <thead>\n",
       "    <tr style=\"text-align: right;\">\n",
       "      <th></th>\n",
       "      <th>1</th>\n",
       "      <th>6.1</th>\n",
       "      <th>6</th>\n",
       "      <th>42</th>\n",
       "      <th>6.2</th>\n",
       "      <th>77</th>\n",
       "      <th>4200</th>\n",
       "      <th>27</th>\n",
       "    </tr>\n",
       "  </thead>\n",
       "  <tbody>\n",
       "    <tr>\n",
       "      <th>0</th>\n",
       "      <td>1</td>\n",
       "      <td>6.2</td>\n",
       "      <td>6</td>\n",
       "      <td>60</td>\n",
       "      <td>8</td>\n",
       "      <td>75</td>\n",
       "      <td>10000</td>\n",
       "      <td>28</td>\n",
       "    </tr>\n",
       "    <tr>\n",
       "      <th>1</th>\n",
       "      <td>1</td>\n",
       "      <td>6.2</td>\n",
       "      <td>6</td>\n",
       "      <td>60</td>\n",
       "      <td>8</td>\n",
       "      <td>75</td>\n",
       "      <td>10000</td>\n",
       "      <td>28</td>\n",
       "    </tr>\n",
       "    <tr>\n",
       "      <th>2</th>\n",
       "      <td>1</td>\n",
       "      <td>5.9</td>\n",
       "      <td>4</td>\n",
       "      <td>30</td>\n",
       "      <td>8</td>\n",
       "      <td>85</td>\n",
       "      <td>3000</td>\n",
       "      <td>28</td>\n",
       "    </tr>\n",
       "    <tr>\n",
       "      <th>3</th>\n",
       "      <td>1</td>\n",
       "      <td>5.9</td>\n",
       "      <td>4</td>\n",
       "      <td>30</td>\n",
       "      <td>8</td>\n",
       "      <td>85</td>\n",
       "      <td>3000</td>\n",
       "      <td>28</td>\n",
       "    </tr>\n",
       "    <tr>\n",
       "      <th>4</th>\n",
       "      <td>1</td>\n",
       "      <td>5.9</td>\n",
       "      <td>4</td>\n",
       "      <td>30</td>\n",
       "      <td>8</td>\n",
       "      <td>85</td>\n",
       "      <td>3000</td>\n",
       "      <td>28</td>\n",
       "    </tr>\n",
       "    <tr>\n",
       "      <th>...</th>\n",
       "      <td>...</td>\n",
       "      <td>...</td>\n",
       "      <td>...</td>\n",
       "      <td>...</td>\n",
       "      <td>...</td>\n",
       "      <td>...</td>\n",
       "      <td>...</td>\n",
       "      <td>...</td>\n",
       "    </tr>\n",
       "    <tr>\n",
       "      <th>368</th>\n",
       "      <td>2</td>\n",
       "      <td>8.1</td>\n",
       "      <td>9</td>\n",
       "      <td>75</td>\n",
       "      <td>3</td>\n",
       "      <td>68</td>\n",
       "      <td>7000</td>\n",
       "      <td>59</td>\n",
       "    </tr>\n",
       "    <tr>\n",
       "      <th>369</th>\n",
       "      <td>2</td>\n",
       "      <td>8.0</td>\n",
       "      <td>9</td>\n",
       "      <td>75</td>\n",
       "      <td>3</td>\n",
       "      <td>68</td>\n",
       "      <td>7000</td>\n",
       "      <td>59</td>\n",
       "    </tr>\n",
       "    <tr>\n",
       "      <th>370</th>\n",
       "      <td>2</td>\n",
       "      <td>8.1</td>\n",
       "      <td>9</td>\n",
       "      <td>75</td>\n",
       "      <td>3</td>\n",
       "      <td>68</td>\n",
       "      <td>7000</td>\n",
       "      <td>59</td>\n",
       "    </tr>\n",
       "    <tr>\n",
       "      <th>371</th>\n",
       "      <td>2</td>\n",
       "      <td>8.1</td>\n",
       "      <td>9</td>\n",
       "      <td>75</td>\n",
       "      <td>3</td>\n",
       "      <td>68</td>\n",
       "      <td>7000</td>\n",
       "      <td>59</td>\n",
       "    </tr>\n",
       "    <tr>\n",
       "      <th>372</th>\n",
       "      <td>2</td>\n",
       "      <td>8.1</td>\n",
       "      <td>9</td>\n",
       "      <td>75</td>\n",
       "      <td>3</td>\n",
       "      <td>68</td>\n",
       "      <td>7000</td>\n",
       "      <td>59</td>\n",
       "    </tr>\n",
       "  </tbody>\n",
       "</table>\n",
       "<p>373 rows × 8 columns</p>\n",
       "</div>"
      ],
      "text/plain": [
       "     1  6.1  6  42  6.2  77   4200  27\n",
       "0    1  6.2  6  60    8  75  10000  28\n",
       "1    1  6.2  6  60    8  75  10000  28\n",
       "2    1  5.9  4  30    8  85   3000  28\n",
       "3    1  5.9  4  30    8  85   3000  28\n",
       "4    1  5.9  4  30    8  85   3000  28\n",
       "..  ..  ... ..  ..  ...  ..    ...  ..\n",
       "368  2  8.1  9  75    3  68   7000  59\n",
       "369  2  8.0  9  75    3  68   7000  59\n",
       "370  2  8.1  9  75    3  68   7000  59\n",
       "371  2  8.1  9  75    3  68   7000  59\n",
       "372  2  8.1  9  75    3  68   7000  59\n",
       "\n",
       "[373 rows x 8 columns]"
      ]
     },
     "execution_count": 151,
     "metadata": {},
     "output_type": "execute_result"
    }
   ],
   "source": [
    "# Cargar datos\n",
    "# https://www.kaggle.com/datasets/uom190346a/sleep-health-and-lifestyle-dataset?select=Sleep_health_and_lifestyle_dataset.csv\n",
    "data = pd.read_csv('sleep_healt_pre.csv')\n",
    "data\n",
    "# 1) genero\n",
    "# 2) duracion del sueño horas al dia\n",
    "# 3) calidad del sueño 1-10\n",
    "# 4) actividad fisica en minutos\n",
    "# 5) nivel de estres 1-10\n",
    "# 6) presion arterial\n",
    "# 7) pasos diarios\n",
    "# 8) edad como nuestra y"
   ]
  },
  {
   "cell_type": "code",
   "execution_count": 152,
   "metadata": {},
   "outputs": [
    {
     "name": "stdout",
     "output_type": "stream",
     "text": [
      "[[1.0e+00 6.1e+00 6.0e+00 ... 6.0e+00 7.7e+01 4.2e+03]\n",
      " [1.0e+00 6.2e+00 6.0e+00 ... 8.0e+00 7.5e+01 1.0e+04]\n",
      " [1.0e+00 6.2e+00 6.0e+00 ... 8.0e+00 7.5e+01 1.0e+04]\n",
      " ...\n",
      " [2.0e+00 8.1e+00 9.0e+00 ... 3.0e+00 6.8e+01 7.0e+03]\n",
      " [2.0e+00 8.1e+00 9.0e+00 ... 3.0e+00 6.8e+01 7.0e+03]\n",
      " [2.0e+00 8.1e+00 9.0e+00 ... 3.0e+00 6.8e+01 7.0e+03]]\n",
      "[27. 28. 28. 28. 28. 28. 29. 29. 29. 29. 29. 29. 29. 29. 29. 29. 29. 29.\n",
      " 29. 30. 30. 30. 30. 30. 30. 30. 30. 30. 30. 30. 30. 30. 31. 31. 31. 31.\n",
      " 31. 31. 31. 31. 31. 31. 31. 31. 31. 31. 31. 31. 31. 31. 32. 32. 32. 32.\n",
      " 32. 32. 32. 32. 32. 32. 32. 32. 32. 32. 32. 32. 32. 33. 33. 33. 33. 33.\n",
      " 33. 33. 33. 33. 33. 33. 33. 33. 34. 34. 35. 35. 35. 35. 35. 35. 35. 35.\n",
      " 35. 35. 35. 35. 36. 36. 36. 36. 36. 36. 36. 36. 36. 36. 36. 36. 37. 37.\n",
      " 37. 37. 37. 37. 37. 37. 37. 37. 37. 37. 37. 37. 37. 37. 37. 37. 37. 37.\n",
      " 38. 38. 38. 38. 38. 38. 38. 38. 38. 38. 38. 38. 38. 38. 38. 38. 38. 38.\n",
      " 38. 38. 39. 39. 39. 39. 39. 39. 39. 39. 39. 39. 39. 39. 39. 39. 39. 40.\n",
      " 40. 40. 40. 41. 41. 41. 41. 41. 41. 41. 41. 41. 41. 41. 41. 42. 42. 42.\n",
      " 42. 42. 42. 42. 42. 42. 43. 43. 43. 43. 43. 43. 43. 43. 43. 43. 43. 43.\n",
      " 43. 43. 43. 43. 43. 43. 43. 43. 43. 43. 43. 43. 43. 43. 43. 43. 43. 43.\n",
      " 43. 43. 43. 43. 44. 44. 44. 44. 44. 44. 44. 44. 44. 44. 44. 44. 44. 44.\n",
      " 44. 44. 44. 44. 44. 44. 44. 44. 44. 44. 44. 44. 44. 44. 44. 44. 45. 45.\n",
      " 45. 45. 45. 45. 45. 45. 45. 45. 45. 45. 45. 45. 48. 48. 48. 49. 49. 49.\n",
      " 49. 49. 49. 49. 49. 49. 49. 49. 50. 50. 50. 50. 50. 50. 50. 50. 50. 50.\n",
      " 50. 50. 50. 50. 50. 50. 50. 50. 50. 50. 51. 51. 51. 51. 51. 51. 51. 51.\n",
      " 52. 52. 52. 52. 52. 52. 52. 52. 52. 53. 53. 53. 53. 53. 53. 53. 53. 53.\n",
      " 53. 53. 53. 53. 53. 53. 53. 53. 54. 54. 54. 54. 54. 54. 54. 55. 55. 56.\n",
      " 56. 57. 57. 57. 57. 57. 57. 57. 57. 57. 58. 58. 58. 58. 58. 58. 59. 59.\n",
      " 59. 59. 59. 59. 59. 59. 59. 59. 59. 59. 59. 59. 59. 59.]\n"
     ]
    }
   ],
   "source": [
    "data = np.loadtxt('sleep_healt_pre.csv', delimiter=',')\n",
    "X_datos, y_datos = data[:, 0:7], data[:, 7]\n",
    "print(X_datos)\n",
    "print(y_datos)"
   ]
  },
  {
   "cell_type": "code",
   "execution_count": 153,
   "metadata": {},
   "outputs": [],
   "source": [
    "# normalizacion de caracteristicas\n",
    "def  featureNormalize(X):\n",
    "    X_norm = X.copy()\n",
    "    mu = np.zeros(X.shape[1])\n",
    "    sigma = np.zeros(X.shape[1])\n",
    "\n",
    "    mu = np.mean(X, axis = 0)\n",
    "    sigma = np.std(X, axis = 0)\n",
    "    X_norm = (X - mu) / sigma\n",
    "    \n",
    "    return X_norm, mu, sigma"
   ]
  },
  {
   "cell_type": "code",
   "execution_count": 154,
   "metadata": {},
   "outputs": [],
   "source": [
    "X_norm, media_norm, sigma = featureNormalize(X_datos)"
   ]
  },
  {
   "cell_type": "code",
   "execution_count": 155,
   "metadata": {},
   "outputs": [
    {
     "name": "stdout",
     "output_type": "stream",
     "text": [
      "[1.0e+00 5.9e+00 4.0e+00 3.0e+01 8.0e+00 8.5e+01 3.0e+03]\n"
     ]
    }
   ],
   "source": [
    "#X = X_norm\n",
    "X = X_datos\n",
    "y = y_datos\n",
    "print(X[5])"
   ]
  },
  {
   "cell_type": "code",
   "execution_count": 156,
   "metadata": {},
   "outputs": [
    {
     "name": "stdout",
     "output_type": "stream",
     "text": [
      "[[ 1.         -0.9893614  -1.29888693 ...  0.34702051  1.6547187\n",
      "  -1.61958404]\n",
      " [ 1.         -0.9893614  -1.17303623 ...  1.47559156  1.17047394\n",
      "   1.97007745]\n",
      " [ 1.         -0.9893614  -1.17303623 ...  1.47559156  1.17047394\n",
      "   1.97007745]\n",
      " ...\n",
      " [ 1.          1.010753    1.21812712 ... -1.34583606 -0.52438269\n",
      "   0.11335599]\n",
      " [ 1.          1.010753    1.21812712 ... -1.34583606 -0.52438269\n",
      "   0.11335599]\n",
      " [ 1.          1.010753    1.21812712 ... -1.34583606 -0.52438269\n",
      "   0.11335599]]\n"
     ]
    }
   ],
   "source": [
    "# Añade el termino de interseccion a X\n",
    "# (Columna de unos para X0)\n",
    "m = y.size\n",
    "X = np.concatenate([np.ones((m, 1)), X_norm], axis=1)\n",
    "print(X)"
   ]
  },
  {
   "cell_type": "code",
   "execution_count": 157,
   "metadata": {},
   "outputs": [],
   "source": [
    "# funcion del costo\n",
    "def computeCostMulti(X, y, theta):\n",
    "    # Inicializa algunos valores utiles\n",
    "    m = y.shape[0] # numero de ejemplos de entrenamiento\n",
    "    J = 0\n",
    "    h = np.dot(X, theta)\n",
    "    J = (1/(2 * m)) * np.sum(np.square(h - y))\n",
    "    \n",
    "    return J"
   ]
  },
  {
   "cell_type": "code",
   "execution_count": 158,
   "metadata": {},
   "outputs": [],
   "source": [
    "# funcion descenso por gradiente\n",
    "def gradientDescentMulti(X, y, theta, alpha, num_iters):\n",
    "    \n",
    "    # Inicializa algunos valores \n",
    "    m = y.shape[0] # numero de ejemplos de entrenamiento\n",
    "    \n",
    "    # realiza una copia de theta, el cual será acutalizada por el descenso por el gradiente\n",
    "    theta = theta.copy()\n",
    "    \n",
    "    J_history = []\n",
    "    \n",
    "    for i in range(num_iters):\n",
    "        theta = theta - (alpha / m) * (np.dot(X, theta) - y).dot(X)\n",
    "        J_history.append(computeCostMulti(X, y, theta))\n",
    "    \n",
    "    return theta, J_history"
   ]
  },
  {
   "cell_type": "code",
   "execution_count": 159,
   "metadata": {},
   "outputs": [
    {
     "name": "stdout",
     "output_type": "stream",
     "text": [
      "theta calculado por el descenso por el gradiente: [41.90096529  4.52129944  0.47975836  2.44989287  1.14399567  0.16912777\n",
      "  0.59896376 -0.37612405]\n",
      "El costo mas bajo es: 19.690160938087693\n"
     ]
    },
    {
     "data": {
      "image/png": "[encoded data removed]",
      "text/plain": [
       "<Figure size 640x480 with 1 Axes>"
      ]
     },
     "metadata": {},
     "output_type": "display_data"
    }
   ],
   "source": [
    "# Elegir algun valor para alpha (probar varias alternativas)\n",
    "alpha = 0.001 # alpha = 0.003\n",
    "num_iters = 5000\n",
    "\n",
    "# inicializa theta y ejecuta el descenso por el gradiente\n",
    "theta = np.zeros(8)\n",
    "theta, J_history = gradientDescentMulti(X, y, theta, alpha, num_iters)\n",
    "\n",
    "# Grafica la convergencia del costo\n",
    "pyplot.plot(np.arange(len(J_history)), J_history, lw=2)\n",
    "pyplot.xlabel('Numero de iteraciones')\n",
    "pyplot.ylabel('Costo J')\n",
    "\n",
    "# Muestra los resultados del descenso por el gradiente\n",
    "print('theta calculado por el descenso por el gradiente: {:s}'.format(str(theta)))\n",
    "print('El costo mas bajo es: {:s}'.format(str(J_history[-1])))"
   ]
  },
  {
   "cell_type": "code",
   "execution_count": 160,
   "metadata": {},
   "outputs": [
    {
     "name": "stdout",
     "output_type": "stream",
     "text": [
      "Caracteristicas:  [[ 1.         -0.9893614  -1.29888693 -1.09828011 -0.82541823  0.34702051\n",
      "   1.6547187  -1.61958404]]\n",
      "La edad de la persona (usando el descenso por el gradiente) es: 34.0\n",
      "Edad esperado:  27.0\n"
     ]
    }
   ],
   "source": [
    "# Estimar la edad de una persona con las siguientes caracteristicas\n",
    "X_prueba = X[0:1, :].copy()\n",
    "print('Caracteristicas: ', X_prueba)\n",
    "# X_array[1:6] = (X_array[1:6] - mu) / sigma\n",
    "age = np.dot(X_prueba, theta)   # Se debe cambiar esto\n",
    "\n",
    "print('La edad de la persona (usando el descenso por el gradiente) es: {:0.1f}'.format(int(age)))\n",
    "print('Edad esperado: ', y[0])"
   ]
  }
 ],
 "metadata": {
  "kernelspec": {
   "display_name": "Python 3",
   "language": "python",
   "name": "python3"
  },
  "language_info": {
   "codemirror_mode": {
    "name": "ipython",
    "version": 3
   },
   "file_extension": ".py",
   "mimetype": "text/x-python",
   "name": "python",
   "nbconvert_exporter": "python",
   "pygments_lexer": "ipython3",
   "version": "3.11.3"
  },
  "orig_nbformat": 4
 },
 "nbformat": 4,
 "nbformat_minor": 2
}
