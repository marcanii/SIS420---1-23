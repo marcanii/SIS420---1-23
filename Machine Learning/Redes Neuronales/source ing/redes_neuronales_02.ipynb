{
 "cells": [
  {
   "attachments": {},
   "cell_type": "markdown",
   "metadata": {},
   "source": [
    "# Redes Neuronales - Aprendizaje\n",
    "\n",
    "## Introducción\n",
    "\n",
    "En este ejemplo se implementara el algoritmo de backpropagation, o propagación hacia atras para redes neuronales y se aplicara a la tarea del reconocimiento de digitos manuscritos."
   ]
  },
  {
   "cell_type": "code",
   "execution_count": 1,
   "metadata": {},
   "outputs": [],
   "source": [
    "# used for manipulating directory paths\n",
    "import os\n",
    "\n",
    "# Scientific and vector computation for python\n",
    "import numpy as np\n",
    "\n",
    "# Plotting library\n",
    "from matplotlib import pyplot\n",
    "\n",
    "# Optimization module in scipy\n",
    "from scipy import optimize\n",
    "\n",
    "# will be used to load MATLAB mat datafile format\n",
    "from scipy.io import loadmat\n",
    "\n",
    "# library written for this exercise providing additional functions for assignment submission, and others\n",
    "import utils\n",
    "\n",
    "\n",
    "# tells matplotlib to embed plots within the notebook\n",
    "%matplotlib inline"
   ]
  },
  {
   "attachments": {},
   "cell_type": "markdown",
   "metadata": {},
   "source": [
    "## Red Neuronal\n",
    "\n",
    "En el ejercicio anterior se implemento la propagacion hacia adelante para realizar predicciones en este ejercicio se implementara la propagacion hacia atraz para entrenar para aprender los parametros para la red neuronal.\n",
    "\n",
    "Se inicia el ejercicio cargando el dataset."
   ]
  },
  {
   "cell_type": "code",
   "execution_count": 2,
   "metadata": {},
   "outputs": [
    {
     "name": "stdout",
     "output_type": "stream",
     "text": [
      "5000\n"
     ]
    }
   ],
   "source": [
    "#  los datos de entrenamiento se almacenan en los arreglos X, y\n",
    "data = loadmat('ex4data1.mat')\n",
    "X, y = data['X'], data['y'].ravel()\n",
    "\n",
    "# Se cambia el valor de 10 por 0 de y\n",
    "y[y == 10] = 0\n",
    "\n",
    "# Numero de ejemplos de entrenamiento\n",
    "m = y.size\n",
    "\n",
    "print(m)"
   ]
  },
  {
   "cell_type": "code",
   "execution_count": 3,
   "metadata": {
    "scrolled": true
   },
   "outputs": [
    {
     "ename": "AttributeError",
     "evalue": "module 'utils' has no attribute 'displayData'",
     "output_type": "error",
     "traceback": [
      "\u001b[1;31m---------------------------------------------------------------------------\u001b[0m",
      "\u001b[1;31mAttributeError\u001b[0m                            Traceback (most recent call last)",
      "Cell \u001b[1;32mIn[3], line 5\u001b[0m\n\u001b[0;32m      2\u001b[0m rand_indices \u001b[39m=\u001b[39m np\u001b[39m.\u001b[39mrandom\u001b[39m.\u001b[39mchoice(m, \u001b[39m100\u001b[39m, replace\u001b[39m=\u001b[39m\u001b[39mFalse\u001b[39;00m)\n\u001b[0;32m      3\u001b[0m sel \u001b[39m=\u001b[39m X[rand_indices, :]\n\u001b[1;32m----> 5\u001b[0m utils\u001b[39m.\u001b[39;49mdisplayData(sel)\n",
      "\u001b[1;31mAttributeError\u001b[0m: module 'utils' has no attribute 'displayData'"
     ]
    }
   ],
   "source": [
    "# Se seleccionan 100 datos para ser visualizados\n",
    "rand_indices = np.random.choice(m, 100, replace=False)\n",
    "sel = X[rand_indices, :]\n",
    "\n",
    "utils.displayData(sel)"
   ]
  },
  {
   "attachments": {},
   "cell_type": "markdown",
   "metadata": {},
   "source": [
    "### 1.2 Representación del modelo\n",
    "\n",
    "![](Figures/neural_network.png)\n",
    "\n",
    "La red neuronal tiene 3 capas: una capa de entrada, una capa oculta y una capa de salida. Recuerde que las entradas son valores de píxeles de digitos de imagenes. Dado que las imágenes tienen un tamaño de $20 \\times 20$, esto nos da 400 unidades de capa de entrada (sin contar la unidad de oscilación adicional que siempre genera +1). Los datos de entrenamiento se cargaron en las variables `X` y `y` anteriores.\n",
    "\n",
    "Se proporciona un conjunto de parámetros de red ($\\Theta^{(1)}, \\Theta^{(2)}$) ya entrenados. Estos se almacenan en `ex4weights.mat` y se cargarán en la siguiente celda de este cuaderno en `Theta1` y `Theta2`. Los parámetros tienen dimensiones que están dimensionadas para una red neuronal con 25 unidades en la segunda capa y 10 unidades de salida (correspondientes a las clases de 10 dígitos)."
   ]
  },
  {
   "cell_type": "code",
   "execution_count": 5,
   "metadata": {},
   "outputs": [
    {
     "name": "stdout",
     "output_type": "stream",
     "text": [
      "{'__header__': b'MATLAB 5.0 MAT-file, Platform: GLNXA64, Created on: Tue Oct 18 14:57:02 2011', '__version__': '1.0', '__globals__': [], 'Theta1': array([[-2.25623899e-02, -1.05624163e-08,  2.19414684e-09, ...,\n",
      "        -1.30529929e-05, -5.04175101e-06,  2.80464449e-09],\n",
      "       [-9.83811294e-02,  7.66168682e-09, -9.75873689e-09, ...,\n",
      "        -5.60134007e-05,  2.00940969e-07,  3.54422854e-09],\n",
      "       [ 1.16156052e-01, -8.77654466e-09,  8.16037764e-09, ...,\n",
      "        -1.20951657e-04, -2.33669661e-06, -7.50668099e-09],\n",
      "       ...,\n",
      "       [-1.83220638e-01, -8.89272060e-09, -9.81968100e-09, ...,\n",
      "         2.35311186e-05, -3.25484493e-06,  9.02499060e-09],\n",
      "       [-7.02096331e-01,  3.05178374e-10,  2.56061008e-09, ...,\n",
      "        -8.61759744e-04,  9.43449909e-05,  3.83761998e-09],\n",
      "       [-3.50933229e-01,  8.85876862e-09, -6.57515140e-10, ...,\n",
      "        -1.80365926e-06, -8.14464807e-06,  8.79454531e-09]]), 'Theta2': array([[-0.76100352, -1.21244498, -0.10187131, -2.36850085, -1.05778129,\n",
      "        -2.20823629,  0.56383834,  1.21105294,  2.21030997,  0.44456156,\n",
      "        -1.18244872,  1.04289112, -1.60558756,  1.30419943,  1.37175046,\n",
      "         1.74825095, -0.23365648, -1.52014483,  1.15324176,  0.10368082,\n",
      "        -0.37207719, -0.61530019, -0.1256836 , -2.27193038, -0.71836208,\n",
      "        -1.29690315],\n",
      "       [-0.61785176,  0.61559207, -1.26550639,  1.85745418, -0.91853319,\n",
      "        -0.05502589, -0.38589806,  1.29520853, -1.56843297, -0.97026419,\n",
      "        -2.18334895, -2.85033578, -2.07733086,  1.63163164,  0.3490229 ,\n",
      "         1.82789117, -2.44174379, -0.8563034 , -0.2982564 , -2.07947873,\n",
      "        -1.2933238 ,  0.89982032,  0.28306578,  2.31180525, -2.46444086,\n",
      "         1.45656548],\n",
      "       [-0.68934072, -1.94538151,  2.01360618, -3.12316188, -0.2361763 ,\n",
      "         1.38680947,  0.90982429, -1.54774416, -0.79830896, -0.65599834,\n",
      "         0.7353833 , -2.58593294,  0.47210839,  0.55349499,  2.51255453,\n",
      "        -2.4167454 , -1.63898627,  1.2027302 , -1.20245851, -1.83445959,\n",
      "        -1.88013027, -0.34056098,  0.23692483, -1.06137919,  1.02759232,\n",
      "        -0.47690832],\n",
      "       [-0.67832479,  0.46299226,  0.58492321, -0.1650184 ,  1.93264192,\n",
      "        -0.22965765, -1.84731492,  0.49011768,  1.07146054, -3.31905643,\n",
      "         1.54113507,  0.37371947, -0.86484681, -2.58273522,  0.97062447,\n",
      "        -0.51021867, -0.68427897, -1.64713607,  0.21153145, -0.27422442,\n",
      "         1.72599755,  1.32418658, -2.63984479, -0.08055871, -2.03510803,\n",
      "        -1.46123776],\n",
      "       [-0.59664339, -2.04481799,  2.05698407,  1.95100909,  0.17637699,\n",
      "        -2.16141218, -0.40394736,  1.80157532, -1.56278739, -0.25253004,\n",
      "         0.23586497,  0.71656699,  1.07689092, -0.35457279, -1.67743058,\n",
      "        -0.12939255, -0.67488849,  1.14066535,  1.32431237,  3.21158484,\n",
      "        -2.15888898, -2.60164082, -3.2226466 , -1.89612906, -0.87488068,\n",
      "         2.51038628],\n",
      "       [-0.87794907,  0.4344112 , -0.93161049,  0.18390778, -0.36078216,\n",
      "         0.61958137,  0.38624948, -2.65150343,  2.29710773, -2.08818098,\n",
      "        -1.86382323,  1.06057836,  0.77562146,  2.1346861 , -1.14973702,\n",
      "        -0.52081426,  0.99743429, -1.48309353, -2.3139424 ,  0.29517333,\n",
      "        -0.38704879, -2.20607697,  0.30702191, -1.17646114, -1.63462966,\n",
      "        -0.82467661],\n",
      "       [-0.52746527,  1.21564288, -1.50095981, -2.03195359, -1.52366734,\n",
      "        -2.43732079, -2.37570311, -1.39987277, -0.88735315, -0.63278873,\n",
      "         1.50450176, -1.580763  ,  0.58599217, -0.77540416,  0.94257331,\n",
      "         2.10919653,  0.54479132,  0.43773612, -1.28024228, -0.04360994,\n",
      "         1.4774997 , -1.13276949, -0.72846904,  0.04734716,  1.6574566 ,\n",
      "         1.68540944],\n",
      "       [-0.7490154 , -0.72249056, -3.15228173,  0.36577778,  0.19811362,\n",
      "        -0.73059946,  1.65263918, -2.300357  , -1.87468162,  0.98095387,\n",
      "        -1.58825159,  1.35434142,  2.17895331, -1.99239762, -2.00371362,\n",
      "        -0.388613  , -2.33992976, -2.91719062,  0.99398645, -2.70476768,\n",
      "        -1.27139772,  1.86091461, -1.20519404, -0.38014194,  0.7087181 ,\n",
      "        -2.11014003],\n",
      "       [-0.6665468 ,  0.53601845,  1.30307573, -1.03372714, -4.03084753,\n",
      "         0.58173469, -2.65717902,  0.80379994, -1.09241928,  2.49910058,\n",
      "         0.362008  ,  0.66195337, -0.92160534, -0.83123666, -2.00200952,\n",
      "        -2.94897501,  0.64564202, -1.10114694,  0.74510309,  0.58506717,\n",
      "        -1.99545251,  0.62591105,  1.80596103, -0.22309315, -1.40442136,\n",
      "        -2.1319153 ],\n",
      "       [-0.46089119, -1.43944954, -1.21809509,  0.71093011,  0.45216919,\n",
      "        -0.35953381,  0.62284954, -0.67005297, -0.7069138 ,  0.06311351,\n",
      "        -1.23199074, -1.74645233, -2.71960897, -2.21437178, -1.69307505,\n",
      "        -0.90927394,  0.87852311,  1.18664814, -1.87041262,  0.39796295,\n",
      "         1.72113872, -1.36934055,  0.8580668 , -0.24779579,  1.28009118,\n",
      "        -1.32752042]])}\n"
     ]
    }
   ],
   "source": [
    "# Configurando parametros necesario\n",
    "input_layer_size  = 400  # Entrada de imagenes de digitos de 20x20\n",
    "hidden_layer_size = 25   # 25 unidades ocultas\n",
    "num_labels = 10          # 10 etiquetas, de 0 a 9\n",
    "\n",
    "# carga los pesos en las variables Theta1 y Theta2\n",
    "weights = loadmat('ex4weights.mat')\n",
    "\n",
    "print(weights)\n",
    "\n",
    "# Theta1 tiene un tamaño de 25x401\n",
    "# Theta2 tiene un tamañó de 10x26\n",
    "Theta1, Theta2 = weights['Theta1'], weights['Theta2']\n",
    "\n",
    "# se intercambia la ultima columa con la primera de Theta2, por cuestiones de indices que utiliza MATLAB\n",
    "Theta2 = np.roll(Theta2, 1, axis=0)\n",
    "\n",
    "# Desenrollar parámetros\n",
    "nn_params = np.concatenate([Theta1.ravel(), Theta2.ravel()])"
   ]
  },
  {
   "cell_type": "code",
   "execution_count": 6,
   "metadata": {},
   "outputs": [
    {
     "data": {
      "text/plain": [
       "array([ 3,  8, 15])"
      ]
     },
     "execution_count": 6,
     "metadata": {},
     "output_type": "execute_result"
    }
   ],
   "source": [
    "a = np.array([1,2,3])\n",
    "b = ([3,4,5])\n",
    "a*b"
   ]
  },
  {
   "attachments": {},
   "cell_type": "markdown",
   "metadata": {},
   "source": [
    "<a id=\"section1\"></a>\n",
    "### 1.3 Propagación hacia adelante y funcion de costo\n",
    "\n",
    "Ahora se implementa la funcion de costo y gradiente para la red neuronal `nnCostFunction`.\n",
    "\n",
    "La función de costo para la red neuronal (sin regularización) es:\n",
    "\n",
    "$$ J(\\theta) = \\frac{1}{m} \\sum_{i=1}^{m}\\sum_{k=1}^{K} \\left[ - y_k^{(i)} \\log \\left( \\left( h_\\theta \\left( x^{(i)} \\right) \\right)_k \\right) - \\left( 1 - y_k^{(i)} \\right) \\log \\left( 1 - \\left( h_\\theta \\left( x^{(i)} \\right) \\right)_k \\right) \\right]$$\n",
    "\n",
    "Donde $h_\\theta \\left( x^{(i)} \\right)$ se calcula como se muestra en la figura de la red neuronal anterior, y K = 10 es el número total de etiquetas posibles. Tenga en cuenta que $h_\\theta(x^{(i)})_k = a_k^{(3)}$ es la activación (valor de salida) de la unidad de salida $k^{th}$. Además, recuerde que mientras que las etiquetas originales (en la variable y) eran 0, 1, ..., 9, con el propósito de entrenar una red neuronal, necesitamos codificar las etiquetas como vectores que contienen solo valores 0 o 1, entonces:\n",
    "\n",
    "$$ y = \n",
    "\\begin{bmatrix} 1 \\\\ 0 \\\\ 0 \\\\\\vdots \\\\ 0 \\end{bmatrix}, \\quad\n",
    "\\begin{bmatrix} 0 \\\\ 1 \\\\ 0 \\\\ \\vdots \\\\ 0 \\end{bmatrix}, \\quad \\cdots  \\quad \\text{or} \\qquad\n",
    "\\begin{bmatrix} 0 \\\\ 0 \\\\ 0 \\\\ \\vdots \\\\ 1 \\end{bmatrix}.\n",
    "$$\n",
    "\n",
    "Por ejemplo, si $x^{(i)}$ es una imagen del dígito 5, entonces el $y^{(i)}$ correspondiente (que debe usar con la función de costo) debe ser un vector de 10 dimensiones con $y_5 = 1$, y los otros elementos iguales a 0.\n",
    "\n",
    "<div class=\"alert alert-box alert-warning\">\n",
    "Nota de implementación: ** La matriz $X$ contiene los ejemplos en filas (es decir, X [i ,:] es el i-ésimo ejemplo de entrenamiento $x^{(i)}$, expresado como $n \\times 1$ vector.) Cuando complete el código en `nnCostFunction`, deberá agregar la columna de 1 a la matriz X. Los parámetros para cada unidad en la red neuronal se representan en Theta1 y Theta2 como una fila. Específicamente, la primera fila de Theta1 corresponde a la primera unidad oculta en la segunda capa. Puede utilizar un bucle for sobre los ejemplos para calcular el costo.\n",
    "    \n",
    "</div>\n",
    "<a id=\"nnCostFunction\"></a>"
   ]
  },
  {
   "cell_type": "code",
   "execution_count": 7,
   "metadata": {},
   "outputs": [],
   "source": [
    "def sigmoidGradient(z):\n",
    "    \"\"\"\n",
    "    Calcula el gradiente de la función sigmoidea evaluada en z.\n",
    "    Esto debería funcionar independientemente de si z es una matriz o un vector. \n",
    "    En particular, si z es un vector o una matriz, debe devolver el gradiente para cada elemento.\n",
    "    \n",
    "    Parameters\n",
    "    ----------\n",
    "    z : array_like\n",
    "        A vector or matrix as input to the sigmoid function. \n",
    "    \n",
    "    Returns\n",
    "    --------\n",
    "    g : array_like\n",
    "        Gradient of the sigmoid function. Has the same shape as z. \n",
    "    \n",
    "    Instructions\n",
    "    ------------\n",
    "    Compute the gradient of the sigmoid function evaluated at\n",
    "    each value of z (z can be a matrix, vector or scalar).\n",
    "    \n",
    "    Note\n",
    "    ----\n",
    "    We have provided an implementation of the sigmoid function \n",
    "    in `utils.py` file accompanying this assignment.\n",
    "    \"\"\"\n",
    "\n",
    "    g = np.zeros(z.shape)\n",
    "\n",
    "    g = utils.sigmoid(z) * (1 - utils.sigmoid(z))\n",
    "\n",
    "    return g"
   ]
  },
  {
   "cell_type": "code",
   "execution_count": 8,
   "metadata": {},
   "outputs": [],
   "source": [
    "def nnCostFunction(nn_params,\n",
    "                   input_layer_size,\n",
    "                   hidden_layer_size,\n",
    "                   num_labels,\n",
    "                   X, y, lambda_=0.0):\n",
    "    \"\"\"\n",
    "    Implementa la función de costo de la red neuronal y el gradiente para una red neuronal de dos capas que realiza la clasificación.    \n",
    "    Parameters\n",
    "    ----------\n",
    "    nn_params : array_like\n",
    "        The parameters for the neural network which are \"unrolled\" into \n",
    "        a vector. This needs to be converted back into the weight matrices Theta1\n",
    "        and Theta2.\n",
    "    \n",
    "    input_layer_size : int\n",
    "        Number of features for the input layer. \n",
    "    \n",
    "    hidden_layer_size : int\n",
    "        Number of hidden units in the second layer.\n",
    "    \n",
    "    num_labels : int\n",
    "        Total number of labels, or equivalently number of units in output layer. \n",
    "    \n",
    "    X : array_like\n",
    "        Input dataset. A matrix of shape (m x input_layer_size).\n",
    "    \n",
    "    y : array_like\n",
    "        Dataset labels. A vector of shape (m,).\n",
    "    \n",
    "    lambda_ : float, optional\n",
    "        Regularization parameter.\n",
    " \n",
    "    Returns\n",
    "    -------\n",
    "    J : float\n",
    "        The computed value for the cost function at the current weight values.\n",
    "    \n",
    "    grad : array_like\n",
    "        An \"unrolled\" vector of the partial derivatives of the concatenatation of\n",
    "        neural network weights Theta1 and Theta2.\n",
    "    \n",
    "    \n",
    "    Note \n",
    "    ----\n",
    "    We have provided an implementation for the sigmoid function in the file \n",
    "    `utils.py` accompanying this assignment.\n",
    "    \"\"\"\n",
    "    # Reshape nn_params back into the parameters Theta1 and Theta2, the weight matrices\n",
    "    # for our 2 layer neural network\n",
    "    Theta1 = np.reshape(nn_params[:hidden_layer_size * (input_layer_size + 1)],\n",
    "                        (hidden_layer_size, (input_layer_size + 1)))\n",
    "\n",
    "    Theta2 = np.reshape(nn_params[(hidden_layer_size * (input_layer_size + 1)):],\n",
    "                        (num_labels, (hidden_layer_size + 1)))\n",
    "\n",
    "    m = y.size\n",
    "         \n",
    "    J = 0\n",
    "    Theta1_grad = np.zeros(Theta1.shape)\n",
    "    Theta2_grad = np.zeros(Theta2.shape)\n",
    "    \n",
    "    a1 = np.concatenate([np.ones((m, 1)), X], axis=1)\n",
    "    \n",
    "    a2 = utils.sigmoid(a1.dot(Theta1.T))\n",
    "    a2 = np.concatenate([np.ones((a2.shape[0], 1)), a2], axis=1)\n",
    "    \n",
    "    a3 = utils.sigmoid(a2.dot(Theta2.T))\n",
    "    \n",
    "    y_matrix = y.reshape(-1)\n",
    "    y_matrix = np.eye(num_labels)[y_matrix]\n",
    "    \n",
    "    temp1 = Theta1\n",
    "    temp2 = Theta2\n",
    "    \n",
    "    # Agregar el termino de regularización\n",
    "    \n",
    "    reg_term = (lambda_ / (2 * m)) * (np.sum(np.square(temp1[:, 1:])) + np.sum(np.square(temp2[:, 1:])))\n",
    "    \n",
    "    J = (-1 / m) * np.sum((np.log(a3) * y_matrix) + np.log(1 - a3) * (1 - y_matrix)) + reg_term\n",
    "    \n",
    "    # Backpropogation\n",
    "    \n",
    "    delta_3 = a3 - y_matrix\n",
    "    delta_2 = delta_3.dot(Theta2)[:, 1:] * sigmoidGradient(a1.dot(Theta1.T))\n",
    "\n",
    "    Delta1 = delta_2.T.dot(a1)\n",
    "    Delta2 = delta_3.T.dot(a2)\n",
    "    \n",
    "    # Agregar regularización al gradiente\n",
    "\n",
    "    Theta1_grad = (1 / m) * Delta1\n",
    "    Theta1_grad[:, 1:] = Theta1_grad[:, 1:] + (lambda_ / m) * Theta1[:, 1:]\n",
    "    \n",
    "    Theta2_grad = (1 / m) * Delta2\n",
    "    Theta2_grad[:, 1:] = Theta2_grad[:, 1:] + (lambda_ / m) * Theta2[:, 1:]\n",
    "    \n",
    "    # ===================== Alterntate solutions =====================\n",
    "    # my_final_matrix = np.zeros(a3.shape)\n",
    "    # for c in np.arange(num_labels):\n",
    "    #    my_final_matrix[:, c] = (np.log(a3[:, c]) * (y == c)) + (np.log(1 - a3[:, c]) * (1 - (y == c)))\n",
    "    #J = (-1 / m) * np.sum(my_final_matrix)\n",
    "    # ================================================================\n",
    "    \n",
    "    # ================================================================\n",
    "    # Unroll gradients\n",
    "    # grad = np.concatenate([Theta1_grad.ravel(order=order), Theta2_grad.ravel(order=order)])\n",
    "    \n",
    "    grad = np.concatenate([Theta1_grad.ravel(), Theta2_grad.ravel()])\n",
    "    \n",
    "    return J, grad"
   ]
  },
  {
   "attachments": {},
   "cell_type": "markdown",
   "metadata": {},
   "source": [
    "Una vez terminado, se llama a `nnCostFunction` usando el conjunto de parámetros cargados para` Theta1` y `Theta2`. Debería ver que el costo es de aproximadamente 0.287629."
   ]
  },
  {
   "cell_type": "code",
   "execution_count": 9,
   "metadata": {},
   "outputs": [
    {
     "ename": "AttributeError",
     "evalue": "module 'utils' has no attribute 'sigmoid'",
     "output_type": "error",
     "traceback": [
      "\u001b[1;31m---------------------------------------------------------------------------\u001b[0m",
      "\u001b[1;31mAttributeError\u001b[0m                            Traceback (most recent call last)",
      "Cell \u001b[1;32mIn[9], line 2\u001b[0m\n\u001b[0;32m      1\u001b[0m lambda_ \u001b[39m=\u001b[39m \u001b[39m0\u001b[39m\n\u001b[1;32m----> 2\u001b[0m J, _ \u001b[39m=\u001b[39m nnCostFunction(nn_params, input_layer_size, hidden_layer_size, num_labels, X, y, lambda_)\n\u001b[0;32m      3\u001b[0m \u001b[39mprint\u001b[39m(\u001b[39m'\u001b[39m\u001b[39mCosto en parametros (cargado de ex4weights): \u001b[39m\u001b[39m%.6f\u001b[39;00m\u001b[39m \u001b[39m\u001b[39m'\u001b[39m \u001b[39m%\u001b[39m J)\n\u001b[0;32m      4\u001b[0m \u001b[39mprint\u001b[39m(\u001b[39m'\u001b[39m\u001b[39mEl costo debe esta cercano a               : 0.287629\u001b[39m\u001b[39m'\u001b[39m)\n",
      "Cell \u001b[1;32mIn[8], line 64\u001b[0m, in \u001b[0;36mnnCostFunction\u001b[1;34m(nn_params, input_layer_size, hidden_layer_size, num_labels, X, y, lambda_)\u001b[0m\n\u001b[0;32m     60\u001b[0m Theta2_grad \u001b[39m=\u001b[39m np\u001b[39m.\u001b[39mzeros(Theta2\u001b[39m.\u001b[39mshape)\n\u001b[0;32m     62\u001b[0m a1 \u001b[39m=\u001b[39m np\u001b[39m.\u001b[39mconcatenate([np\u001b[39m.\u001b[39mones((m, \u001b[39m1\u001b[39m)), X], axis\u001b[39m=\u001b[39m\u001b[39m1\u001b[39m)\n\u001b[1;32m---> 64\u001b[0m a2 \u001b[39m=\u001b[39m utils\u001b[39m.\u001b[39;49msigmoid(a1\u001b[39m.\u001b[39mdot(Theta1\u001b[39m.\u001b[39mT))\n\u001b[0;32m     65\u001b[0m a2 \u001b[39m=\u001b[39m np\u001b[39m.\u001b[39mconcatenate([np\u001b[39m.\u001b[39mones((a2\u001b[39m.\u001b[39mshape[\u001b[39m0\u001b[39m], \u001b[39m1\u001b[39m)), a2], axis\u001b[39m=\u001b[39m\u001b[39m1\u001b[39m)\n\u001b[0;32m     67\u001b[0m a3 \u001b[39m=\u001b[39m utils\u001b[39m.\u001b[39msigmoid(a2\u001b[39m.\u001b[39mdot(Theta2\u001b[39m.\u001b[39mT))\n",
      "\u001b[1;31mAttributeError\u001b[0m: module 'utils' has no attribute 'sigmoid'"
     ]
    }
   ],
   "source": [
    "lambda_ = 0\n",
    "J, _ = nnCostFunction(nn_params, input_layer_size, hidden_layer_size, num_labels, X, y, lambda_)\n",
    "print('Costo en parametros (cargado de ex4weights): %.6f ' % J)\n",
    "print('El costo debe esta cercano a               : 0.287629')"
   ]
  },
  {
   "attachments": {},
   "cell_type": "markdown",
   "metadata": {},
   "source": [
    "<a id=\"section2\"></a>\n",
    "### 1.4 Funcion de costo regularizada\n",
    "\n",
    "La funcion de costo para una red neuronal con regularizacion esta dado por:\n",
    "\n",
    "$$ J(\\theta) = \\frac{1}{m} \\sum_{i=1}^{m}\\sum_{k=1}^{K} \\left[ - y_k^{(i)} \\log \\left( \\left( h_\\theta \\left( x^{(i)} \\right) \\right)_k \\right) - \\left( 1 - y_k^{(i)} \\right) \\log \\left( 1 - \\left( h_\\theta \\left( x^{(i)} \\right) \\right)_k \\right) \\right] + \\frac{\\lambda}{2 m} \\left[ \\sum_{j=1}^{25} \\sum_{k=1}^{400} \\left( \\Theta_{j,k}^{(1)} \\right)^2 + \\sum_{j=1}^{10} \\sum_{k=1}^{25} \\left( \\Theta_{j,k}^{(2)} \\right)^2 \\right] $$\n",
    "\n",
    "La red neuronal solo tendrá 3 capas: una capa de entrada, una capa oculta y una capa de salida. Sin embargo, el código debería funcionar para cualquier cantidad de unidades de entrada, unidades ocultas y unidades de salida. Mientras se han enumerado explícitamente los índices anteriores para $\\ Theta^{(1)}$ y $\\Theta^{(2)}$ para mayor claridad, tenga en cuenta que su código debería funcionar en general con $\\Theta^{(1)}$ y $\\Theta^{(2)} $ de cualquier tamaño. Hay que tomar en cuenta que no se debe regularizar los términos que corresponden al sesgo. Para las matrices `Theta1` y` Theta2`, esto corresponde a la primera columna de cada matriz. "
   ]
  },
  {
   "attachments": {},
   "cell_type": "markdown",
   "metadata": {},
   "source": [
    "Terminado, la siguiente celda llamará a `nnCostFunction` usando el conjunto cargado de parámetros para `Theta1` y `Theta2`, y $\\lambda = 1$. El costo deberia ser aproximadamente 0.383770."
   ]
  },
  {
   "cell_type": "code",
   "execution_count": 24,
   "metadata": {},
   "outputs": [
    {
     "name": "stdout",
     "output_type": "stream",
     "text": [
      "Costo en parametros (cargado de ex4weights): 0.383770\n",
      "El costo debe esta cercano a               : 0.383770\n"
     ]
    }
   ],
   "source": [
    "# Weight regularization parameter (we set this to 1 here).\n",
    "lambda_ = 1\n",
    "J, _ = nnCostFunction(nn_params, input_layer_size, hidden_layer_size,\n",
    "                      num_labels, X, y, lambda_)\n",
    "\n",
    "print('Costo en parametros (cargado de ex4weights): %.6f' % J)\n",
    "print('El costo debe esta cercano a               : 0.383770')"
   ]
  },
  {
   "attachments": {},
   "cell_type": "markdown",
   "metadata": {},
   "source": [
    "## 2 Backpropagation (Propagación hacia atraz)\n",
    "\n",
    "En esta parte del ejercicio, implementará el algoritmo de retropropagación para calcular el gradiente de la función de costo de la red neuronal. Se deberá actualizar la función `nnCostFunction` para que devuelva un valor apropiado para `grad`. Una vez que haya calculado el gradiente, podrá entrenar la red neuronal minimizando la función de costo $J(\\theta)$ utilizando un optimizador avanzado como `scipy`'s` optimize.minimize`.\n",
    "\n",
    "Primero se implementará el algoritmo de retropropagación para calcular los gradientes de los parámetros de la red neuronal (no regularizada). Una vez que se haya verificado que su cálculo de gradiente para el caso no regularizado es correcto, se implementará el gradiente para la red neuronal regularizada."
   ]
  },
  {
   "attachments": {},
   "cell_type": "markdown",
   "metadata": {},
   "source": [
    "<a id=\"section3\"></a>\n",
    "### 2.1 Gradiente de la sigmoide\n",
    "\n",
    "El gradiente para la función sigmoidea puede ser calculada por:\n",
    "\n",
    "$$ g'(z) = \\frac{d}{dz} g(z) = g(z)\\left(1-g(z)\\right) $$\n",
    "\n",
    "donde\n",
    "\n",
    "$$ \\text{sigmoid}(z) = g(z) = \\frac{1}{1 + e^{-z}} $$"
   ]
  },
  {
   "attachments": {},
   "cell_type": "markdown",
   "metadata": {},
   "source": [
    "En la siguiente celda se llama a `sigmoidGradient` en un vector dado `z`. Intente probar algunos valores llamando a `sigmoidGradient (z)`. Para valores grandes (tanto positivos como negativos) de z, el gradiente debe ser cercano a 0. Cuando $z = 0$, el gradiente debe ser exactamente 0.25. El código también debería funcionar con vectores y matrices. Para una matriz, su función debe realizar la función de gradiente sigmoide en cada elemento."
   ]
  },
  {
   "cell_type": "code",
   "execution_count": 25,
   "metadata": {},
   "outputs": [
    {
     "name": "stdout",
     "output_type": "stream",
     "text": [
      "Gradiente sigmoide evaluada con [-1 -0.5 0 0.5 1]:\n",
      "  \n",
      "[0.19661193 0.23500371 0.25       0.23500371 0.19661193]\n"
     ]
    }
   ],
   "source": [
    "z = np.array([-1, -0.5, 0, 0.5, 1])\n",
    "g = sigmoidGradient(z)\n",
    "print('Gradiente sigmoide evaluada con [-1 -0.5 0 0.5 1]:\\n  ')\n",
    "print(g)"
   ]
  },
  {
   "attachments": {},
   "cell_type": "markdown",
   "metadata": {},
   "source": [
    "## 2.2 Random Initialization\n",
    "\n",
    "Al entrenar redes neuronales, es importante inicializar aleatoriamente los parámetros para romper la simetría. Una estrategia eficaz para la inicialización aleatoria es seleccionar aleatoriamente valores para $\\Theta^{(l)}$ uniformemente en el rango $[-\\epsilon_{init}, \\epsilon_ {init}]$. Debe usar $\\epsilon_{init}=0.12$. Este rango de valores asegura que los parámetros se mantengan pequeños y hace que el aprendizaje sea más eficiente.\n",
    "\n",
    "<div class=\"alert alert-box alert-warning\">\n",
    "Una estrategia eficaz para elegir $\\epsilon_{init}$ es basarlo en la cantidad de unidades en la red. Una buena elección de $\\epsilon_{init}$ es $\\epsilon_{init} = \\frac{\\sqrt{6}}{\\sqrt{L_{in} + L_{out}}}$ donde $L_{in} = s_l$ y $L_{out} = s_{l+1}$ son el número de unidades en las capas adyacentes a $\\Theta^{l}$.\n",
    "</div>\n",
    "\n",
    "```python\n",
    "# Randomly initialize the weights to small values\n",
    "W = np.random.rand(L_out, 1 + L_in) * 2 * epsilon_init - epsilon_init\n",
    "```\n",
    "Tenga en cuenta ue se da a la función un argumento para $\\epsilon$ con el valor predeterminado `epsilon_init = 0.12`."
   ]
  },
  {
   "cell_type": "code",
   "execution_count": 26,
   "metadata": {},
   "outputs": [],
   "source": [
    "def randInitializeWeights(L_in, L_out, epsilon_init=0.12):\n",
    "    \"\"\"\n",
    "    Randomly initialize the weights of a layer in a neural network.\n",
    "    \n",
    "    Parameters\n",
    "    ----------\n",
    "    L_in : int\n",
    "        Number of incomming connections.\n",
    "    \n",
    "    L_out : int\n",
    "        Number of outgoing connections. \n",
    "    \n",
    "    epsilon_init : float, optional\n",
    "        Range of values which the weight can take from a uniform \n",
    "        distribution.\n",
    "    \n",
    "    Returns\n",
    "    -------\n",
    "    W : array_like\n",
    "        The weight initialiatized to random values.  Note that W should\n",
    "        be set to a matrix of size(L_out, 1 + L_in) as\n",
    "        the first column of W handles the \"bias\" terms.\"\"\"\n",
    "        \n",
    "\n",
    "    W = np.zeros((L_out, 1 + L_in))\n",
    "    W = np.random.rand(L_out, 1 + L_in) * 2 * epsilon_init - epsilon_init\n",
    "\n",
    "    return W"
   ]
  },
  {
   "cell_type": "code",
   "execution_count": 27,
   "metadata": {},
   "outputs": [
    {
     "name": "stdout",
     "output_type": "stream",
     "text": [
      "Inicialización de parámetros de redes neuronales...\n"
     ]
    }
   ],
   "source": [
    "print('Inicialización de parámetros de redes neuronales...')\n",
    "\n",
    "initial_Theta1 = randInitializeWeights(input_layer_size, hidden_layer_size)\n",
    "initial_Theta2 = randInitializeWeights(hidden_layer_size, num_labels)\n",
    "\n",
    "# Desenrrollr parametros\n",
    "initial_nn_params = np.concatenate([initial_Theta1.ravel(), initial_Theta2.ravel()], axis=0)"
   ]
  },
  {
   "attachments": {},
   "cell_type": "markdown",
   "metadata": {},
   "source": [
    "<a id=\"section4\"></a>\n",
    "### 2.4 Backpropagation\n",
    "\n",
    "![](Figures/ex4-backpropagation.png)\n",
    "\n",
    "Ahora, se implementará el algoritmo de retropropagación. Recuerde que la intuición detrás del algoritmo de retropropagación es la siguiente. Dado un ejemplo de entrenamiento $(x^{(t)}, y^{(t)})$, primero ejecutaremos un \"pase hacia adelante\" para calcular todas las activaciones en toda la red, incluido el valor de salida de la hipótesis $h_\\theta(x)$. Luego, para cada nodo $j$ en la capa $l$, se busca calcular un \"término de error\" $\\delta_j^{(l)}$ que mide cuánto ese nodo fue \"responsable\" de cualquier error en la salida.\n",
    "\n",
    "Para un nodo de salida, se puede medir directamente la diferencia entre la activación de la red y el valor objetivo real, y usar eso para definir $\\delta_j^{(3)}$ (ya que la capa 3 es la capa de salida). Para las unidades ocultas, calculará $\\delta_j^{(l)}$ basándose en un promedio ponderado de los términos de error de los nodos en la capa $(l+1)$. En detalle, aquí está el algoritmo de retropropagación (también representado en la figura anterior). Debe implementar los pasos 1 a 4 en un ciclo que procese un ejemplo a la vez. Concretamente, debe implementar un bucle for `for t in range(m)` y colocar los pasos 1-4 a continuación dentro del bucle for, con la iteración $t^{th}$ realizando el cálculo en el $t^{th}$ ejemplo de entrenamiento $(x^{(t)}, y^{(t)})$. El paso 5 dividirá los gradientes acumulados por $m$ para obtener los gradientes para la función de costo de la red neuronal.\n",
    "\n",
    "1. Establecer los valores de la capa de entrada $(a^{(1)})$ con los $t^{th }$ ejemplos de entrenamiento $x^{(t)}$. Ejecutar un paso de propagacion hacia adelante, calculando la activación $(z^{(2)}, a^{(2)}, z^{(3)}, a^{(3)})$ para las capas 2 y 3. Recordad que se debe añadir el termino de oscilacion `+1` termino que asegura que los vectores de de las capas de activacion $a^{(1)}$ y $a^{(2)}$ tambien incluyan una unidad de oscilacion (bias). En `numpy`, si a_1 es un columna de matriz, agregar una columna se locgra con `a_1 = np.concatenate([np.ones((m, 1)), a_1], axis=1)`.\n",
    "\n",
    "1. Por cada unidad de salida $k$ en la capa 3 (La capa de salida), establece \n",
    "$$\\delta_k^{(3)} = \\left(a_k^{(3)} - y_k \\right)$$\n",
    "donde $y_k \\in \\{0, 1\\}$ indica si el ejemplo de entrenamiento actual pertenece a la clase $k$ $(y_k = 1)$, o si pertenece a una clase diferente $(y_k = 0)$. Puede encontrar útiles las matrices lógicas para esta tarea (explicada en el ejercicio de programación anterior).\n",
    "\n",
    "1. Para la capa oculta se establece $l = 2$, \n",
    "$$ \\delta^{(2)} = \\left( \\Theta^{(2)} \\right)^T \\delta^{(3)} * g'\\left(z^{(2)} \\right)$$\n",
    "Tomar en cuenta que el simbolo  $*$ realiza multiplicaciones de elementos en `numpy`.\n",
    "\n",
    "1. Acumule el gradiente de este ejemplo usando la siguiente fórmula. Tenga en cuenta que debe omitir o eliminar $\\delta_0^{(2)}$. En `numpy`, eliminando $\\delta_0^{(2)}$ corresponde a `delta_2 = delta_2[1:]`.\n",
    "\n",
    "1. Obtenga el gradiente (no regularizado) para la función de costo de la red neuronal dividiendo los gradientes acumulados por $\\frac{1}{m}$:\n",
    "$$ \\frac{\\partial}{\\partial \\Theta_{ij}^{(l)}} J(\\Theta) = D_{ij}^{(l)} = \\frac{1}{m} \\Delta_{ij}^{(l)}$$\n",
    "\n",
    "<div class=\"alert alert-box alert-warning\">\n",
    "**Consejo de Python/Numpy **: debe implementar el algoritmo backpropagation solo después de haber completado con éxito las funciones de forwardpropagation y costo. Al implementar el algoritmo de retropropagación, a menudo es útil utilizar la función `shape` para imprimir las formas de las variables con las que está trabajando si se encuentra con errores de discrepancia de dimensión.\n",
    "</div>"
   ]
  },
  {
   "attachments": {},
   "cell_type": "markdown",
   "metadata": {},
   "source": [
    "Después de que haya implementado el algoritmo de retropropagación, se procede a ejecutar la verificación del gradiente en la implementación. La verificación de gradiente permitirá aumentar la confianza en que el código calcula los gradientes correctamente.\n",
    "\n",
    "### 2.4  Comprobación del gradiente \n",
    "\n",
    "En la red neuronal, se está minimizando la función de costo $J(\\Theta)$. Para realizar una verificación de gradiente en sus parámetros, se puede imaginar \"desenrollar\" los parámetros $\\Theta^{(1)}$, $\\Theta^{(2)}$ en un vector largo $\\theta$. Al hacerlo, se puede pensar que la función de costo es $J(\\Theta)$ y usar el siguiente procedimiento de verificación de gradiente.\n",
    "\n",
    "Suponga que tiene una función $f_i(\\theta)$ que supuestamente calcula $\\frac{\\partial}{\\partial\\theta_i} J(\\theta)$; le gustaría comprobar si $f_i$ está generando valores derivados correctos.\n",
    "\n",
    "$$\n",
    "\\text{Let } \\theta^{(i+)} = \\theta + \\begin{bmatrix} 0 \\\\ 0 \\\\ \\vdots \\\\ \\epsilon \\\\ \\vdots \\\\ 0 \\end{bmatrix}\n",
    "\\quad \\text{and} \\quad \\theta^{(i-)} = \\theta - \\begin{bmatrix} 0 \\\\ 0 \\\\ \\vdots \\\\ \\epsilon \\\\ \\vdots \\\\ 0 \\end{bmatrix}\n",
    "$$\n",
    "\n",
    "Entonces, $\\theta^{(i+)}$ es lo mismo que $\\theta$, excepto que su elemento $i^{th}$ se ha incrementado en $\\epsilon$. De manera similar, $\\theta^{(i−)}$ el vector correspondiente con el elemento $i^{th}$ disminuido en $\\epsilon$. Ahora se puede verificar numericamente la exactitud de $f_i(\\theta)$ comprobando, para cada $i$, que:\n",
    "\n",
    "$$ f_i\\left( \\theta \\right) \\approx \\frac{J\\left( \\theta^{(i+)}\\right) - J\\left( \\theta^{(i-)} \\right)}{2\\epsilon} $$\n",
    "\n",
    "El grado en el que estos dos valores deben aproximarse entre sí dependerá de los detalles de $J$. Pero suponiendo que $\\epsilon = 10^{-4}$, normalmente encontrará que los lados izquierdo y derecho de lo anterior coincidirán con al menos 4 dígitos significativos (y a menudo muchos más).\n",
    "\n",
    "Se tiene implementada la funcion de calculo numerico del gradiente en `computeNumericalGradient` (dentro del archivo `utils.py`). \n",
    "\n",
    "En la siguiente celda, ejecutaremos la función provista `checkNNGradients` que creará una pequeña red neuronal y un conjunto de datos que se utilizará para verificar sus gradientes. Si su implementación de retropropagación es correcta, debería ver una diferencia relativa menor que 1e-9.\n",
    "\n",
    "<div class=\"alert alert-box alert-success\">\n",
    "** Consejo práctico **: al realizar la verificación de gradientes, es mucho más eficiente utilizar una pequeña red neuronal con un número relativamente pequeño de unidades de entrada y unidades ocultas, por lo que tiene un número relativamente pequeño\n",
    "de parámetros. Cada dimensión de $\\theta$ requiere dos evaluaciones de la función de costo y esto puede resultar costoso. En la función `checkNNGradients`, nuestro código crea un pequeño modelo aleatorio y un conjunto de datos que se usa con `computeNumericalGradient` para verificar el gradiente. Además, una vez que esté seguro de que sus cálculos de gradiente son correctos, debe desactivar la verificación de gradiente antes de ejecutar su algoritmo de aprendizaje.\n",
    "</div>\n",
    "\n",
    "<div class=\"alert alert-box alert-success\">\n",
    "** Sugerencia práctica: ** La verificación del gradiente funciona para cualquier función en la que esté calculando el costo y el gradiente. Concretamente, puede usar la misma función `computeNumericalGradient` para verificar si sus implementaciones de gradiente para los otros ejercicios también son correctas (por ejemplo, la función de costo de regresión logística).\n",
    "</div>"
   ]
  },
  {
   "cell_type": "code",
   "execution_count": 28,
   "metadata": {},
   "outputs": [
    {
     "name": "stdout",
     "output_type": "stream",
     "text": [
      "[[-9.27825235e-03 -9.27825236e-03]\n",
      " [-3.04978709e-06 -3.04978914e-06]\n",
      " [-1.75060084e-04 -1.75060082e-04]\n",
      " [-9.62660640e-05 -9.62660620e-05]\n",
      " [ 8.89911959e-03  8.89911960e-03]\n",
      " [ 1.42869450e-05  1.42869443e-05]\n",
      " [ 2.33146358e-04  2.33146357e-04]\n",
      " [ 1.17982666e-04  1.17982666e-04]\n",
      " [-8.36010761e-03 -8.36010762e-03]\n",
      " [-2.59383093e-05 -2.59383100e-05]\n",
      " [-2.87468729e-04 -2.87468729e-04]\n",
      " [-1.37149709e-04 -1.37149706e-04]\n",
      " [ 7.62813550e-03  7.62813551e-03]\n",
      " [ 3.69883257e-05  3.69883234e-05]\n",
      " [ 3.35320351e-04  3.35320347e-04]\n",
      " [ 1.53247082e-04  1.53247082e-04]\n",
      " [-6.74798369e-03 -6.74798370e-03]\n",
      " [-4.68759764e-05 -4.68759769e-05]\n",
      " [-3.76215583e-04 -3.76215587e-04]\n",
      " [-1.66560294e-04 -1.66560294e-04]\n",
      " [ 3.14544970e-01  3.14544970e-01]\n",
      " [ 1.64090819e-01  1.64090819e-01]\n",
      " [ 1.64567932e-01  1.64567932e-01]\n",
      " [ 1.58339334e-01  1.58339334e-01]\n",
      " [ 1.51127527e-01  1.51127527e-01]\n",
      " [ 1.49568335e-01  1.49568335e-01]\n",
      " [ 1.11056588e-01  1.11056588e-01]\n",
      " [ 5.75736494e-02  5.75736493e-02]\n",
      " [ 5.77867378e-02  5.77867378e-02]\n",
      " [ 5.59235296e-02  5.59235296e-02]\n",
      " [ 5.36967009e-02  5.36967009e-02]\n",
      " [ 5.31542052e-02  5.31542052e-02]\n",
      " [ 9.74006970e-02  9.74006970e-02]\n",
      " [ 5.04575855e-02  5.04575855e-02]\n",
      " [ 5.07530173e-02  5.07530173e-02]\n",
      " [ 4.91620841e-02  4.91620841e-02]\n",
      " [ 4.71456249e-02  4.71456249e-02]\n",
      " [ 4.65597186e-02  4.65597186e-02]]\n",
      "The above two columns you get should be very similar.\n",
      "(Left-Your Numerical Gradient, Right-Analytical Gradient)\n",
      "\n",
      "If your backpropagation implementation is correct, then \n",
      "the relative difference will be small (less than 1e-9). \n",
      "Relative Difference: 2.41486e-11\n"
     ]
    }
   ],
   "source": [
    "utils.checkNNGradients(nnCostFunction)"
   ]
  },
  {
   "attachments": {},
   "cell_type": "markdown",
   "metadata": {},
   "source": [
    "<a id=\"section5\"></a>\n",
    "### 2.5 Regularized Neural Network\n",
    "\n",
    "After you have successfully implemented the backpropagation algorithm, you will add regularization to the gradient. To account for regularization, it turns out that you can add this as an additional term *after* computing the gradients using backpropagation.\n",
    "\n",
    "Specifically, after you have computed $\\Delta_{ij}^{(l)}$ using backpropagation, you should add regularization using\n",
    "\n",
    "$$ \\begin{align} \n",
    "& \\frac{\\partial}{\\partial \\Theta_{ij}^{(l)}} J(\\Theta) = D_{ij}^{(l)} = \\frac{1}{m} \\Delta_{ij}^{(l)} & \\qquad \\text{for } j = 0 \\\\\n",
    "& \\frac{\\partial}{\\partial \\Theta_{ij}^{(l)}} J(\\Theta) = D_{ij}^{(l)} = \\frac{1}{m} \\Delta_{ij}^{(l)} + \\frac{\\lambda}{m} \\Theta_{ij}^{(l)} & \\qquad \\text{for } j \\ge 1\n",
    "\\end{align}\n",
    "$$\n",
    "\n",
    "Note that you should *not* be regularizing the first column of $\\Theta^{(l)}$ which is used for the bias term. Furthermore, in the parameters $\\Theta_{ij}^{(l)}$, $i$ is indexed starting from 1, and $j$ is indexed starting from 0. Thus, \n",
    "\n",
    "$$\n",
    "\\Theta^{(l)} = \\begin{bmatrix}\n",
    "\\Theta_{1,0}^{(i)} & \\Theta_{1,1}^{(l)} & \\cdots \\\\\n",
    "\\Theta_{2,0}^{(i)} & \\Theta_{2,1}^{(l)} & \\cdots \\\\\n",
    "\\vdots &  ~ & \\ddots\n",
    "\\end{bmatrix}\n",
    "$$\n",
    "\n",
    "[Now modify your code that computes grad in `nnCostFunction` to account for regularization.](#nnCostFunction)\n",
    "\n",
    "After you are done, the following cell runs gradient checking on your implementation. If your code is correct, you should expect to see a relative difference that is less than 1e-9."
   ]
  },
  {
   "cell_type": "code",
   "execution_count": 29,
   "metadata": {},
   "outputs": [
    {
     "name": "stdout",
     "output_type": "stream",
     "text": [
      "[[-9.27825235e-03 -9.27825236e-03]\n",
      " [-1.67679797e-02 -1.67679797e-02]\n",
      " [-6.01744725e-02 -6.01744725e-02]\n",
      " [-1.73704651e-02 -1.73704651e-02]\n",
      " [ 8.89911959e-03  8.89911960e-03]\n",
      " [ 3.94334829e-02  3.94334829e-02]\n",
      " [-3.19612287e-02 -3.19612287e-02]\n",
      " [-5.75658668e-02 -5.75658668e-02]\n",
      " [-8.36010761e-03 -8.36010762e-03]\n",
      " [ 5.93355565e-02  5.93355565e-02]\n",
      " [ 2.49225535e-02  2.49225535e-02]\n",
      " [-4.51963845e-02 -4.51963845e-02]\n",
      " [ 7.62813550e-03  7.62813551e-03]\n",
      " [ 2.47640974e-02  2.47640974e-02]\n",
      " [ 5.97717617e-02  5.97717617e-02]\n",
      " [ 9.14587966e-03  9.14587966e-03]\n",
      " [-6.74798369e-03 -6.74798370e-03]\n",
      " [-3.26881426e-02 -3.26881426e-02]\n",
      " [ 3.86410548e-02  3.86410548e-02]\n",
      " [ 5.46101547e-02  5.46101547e-02]\n",
      " [ 3.14544970e-01  3.14544970e-01]\n",
      " [ 1.18682669e-01  1.18682669e-01]\n",
      " [ 2.03987128e-01  2.03987128e-01]\n",
      " [ 1.25698067e-01  1.25698067e-01]\n",
      " [ 1.76337550e-01  1.76337550e-01]\n",
      " [ 1.32294136e-01  1.32294136e-01]\n",
      " [ 1.11056588e-01  1.11056588e-01]\n",
      " [ 3.81928689e-05  3.81928696e-05]\n",
      " [ 1.17148233e-01  1.17148233e-01]\n",
      " [-4.07588279e-03 -4.07588279e-03]\n",
      " [ 1.13133142e-01  1.13133142e-01]\n",
      " [-4.52964427e-03 -4.52964427e-03]\n",
      " [ 9.74006970e-02  9.74006970e-02]\n",
      " [ 3.36926556e-02  3.36926556e-02]\n",
      " [ 7.54801264e-02  7.54801264e-02]\n",
      " [ 1.69677090e-02  1.69677090e-02]\n",
      " [ 8.61628953e-02  8.61628953e-02]\n",
      " [ 1.50048382e-03  1.50048382e-03]]\n",
      "The above two columns you get should be very similar.\n",
      "(Left-Your Numerical Gradient, Right-Analytical Gradient)\n",
      "\n",
      "If your backpropagation implementation is correct, then \n",
      "the relative difference will be small (less than 1e-9). \n",
      "Relative Difference: 2.30858e-11\n",
      "\n",
      "\n",
      "Cost at (fixed) debugging parameters (w/ lambda = 3.000000): 0.576051 \n",
      "(for lambda = 3, this value should be about 0.576051)\n"
     ]
    }
   ],
   "source": [
    "#  Check gradients by running checkNNGradients\n",
    "lambda_ = 3\n",
    "utils.checkNNGradients(nnCostFunction, lambda_)\n",
    "\n",
    "# Also output the costFunction debugging values\n",
    "debug_J, _  = nnCostFunction(nn_params, input_layer_size,\n",
    "                          hidden_layer_size, num_labels, X, y, lambda_)\n",
    "\n",
    "print('\\n\\nCost at (fixed) debugging parameters (w/ lambda = %f): %f ' % (lambda_, debug_J))\n",
    "print('(for lambda = 3, this value should be about 0.576051)')"
   ]
  },
  {
   "attachments": {},
   "cell_type": "markdown",
   "metadata": {},
   "source": [
    "### 2.6 Learning parameters using `scipy.optimize.minimize`\n",
    "\n",
    "After you have successfully implemented the neural network cost function\n",
    "and gradient computation, the next step we will use `scipy`'s minimization to learn a good set parameters."
   ]
  },
  {
   "cell_type": "code",
   "execution_count": 30,
   "metadata": {},
   "outputs": [],
   "source": [
    "#  After you have completed the assignment, change the maxiter to a larger\n",
    "#  value to see how more training helps.\n",
    "options= {'maxiter': 100}\n",
    "\n",
    "#  You should also try different values of lambda\n",
    "lambda_ = 1\n",
    "\n",
    "# Create \"short hand\" for the cost function to be minimized\n",
    "costFunction = lambda p: nnCostFunction(p, input_layer_size,\n",
    "                                        hidden_layer_size,\n",
    "                                        num_labels, X, y, lambda_)\n",
    "\n",
    "# Now, costFunction is a function that takes in only one argument\n",
    "# (the neural network parameters)\n",
    "res = optimize.minimize(costFunction,\n",
    "                        initial_nn_params,\n",
    "                        jac=True,\n",
    "                        method='TNC',\n",
    "                        options=options)\n",
    "\n",
    "# get the solution of the optimization\n",
    "nn_params = res.x\n",
    "        \n",
    "# Obtain Theta1 and Theta2 back from nn_params\n",
    "Theta1 = np.reshape(nn_params[:hidden_layer_size * (input_layer_size + 1)],\n",
    "                    (hidden_layer_size, (input_layer_size + 1)))\n",
    "\n",
    "Theta2 = np.reshape(nn_params[(hidden_layer_size * (input_layer_size + 1)):],\n",
    "                    (num_labels, (hidden_layer_size + 1)))"
   ]
  },
  {
   "attachments": {},
   "cell_type": "markdown",
   "metadata": {},
   "source": [
    "After the training completes, we will proceed to report the training accuracy of your classifier by computing the percentage of examples it got correct. If your implementation is correct, you should see a reported\n",
    "training accuracy of about 95.3% (this may vary by about 1% due to the random initialization). It is possible to get higher training accuracies by training the neural network for more iterations. We encourage you to try\n",
    "training the neural network for more iterations (e.g., set `maxiter` to 400) and also vary the regularization parameter $\\lambda$. With the right learning settings, it is possible to get the neural network to perfectly fit the training set."
   ]
  },
  {
   "cell_type": "code",
   "execution_count": 31,
   "metadata": {},
   "outputs": [
    {
     "name": "stdout",
     "output_type": "stream",
     "text": [
      "Training Set Accuracy: 97.080000\n"
     ]
    }
   ],
   "source": [
    "pred = utils.predict(Theta1, Theta2, X)\n",
    "print('Training Set Accuracy: %f' % (np.mean(pred == y) * 100))"
   ]
  },
  {
   "attachments": {},
   "cell_type": "markdown",
   "metadata": {},
   "source": [
    "## 3 Visualizing the Hidden Layer\n",
    "\n",
    "One way to understand what your neural network is learning is to visualize what the representations captured by the hidden units. Informally, given a particular hidden unit, one way to visualize what it computes is to find an input $x$ that will cause it to activate (that is, to have an activation value \n",
    "($a_i^{(l)}$) close to 1). For the neural network you trained, notice that the $i^{th}$ row of $\\Theta^{(1)}$ is a 401-dimensional vector that represents the parameter for the $i^{th}$ hidden unit. If we discard the bias term, we get a 400 dimensional vector that represents the weights from each input pixel to the hidden unit.\n",
    "\n",
    "Thus, one way to visualize the “representation” captured by the hidden unit is to reshape this 400 dimensional vector into a 20 × 20 image and display it (It turns out that this is equivalent to finding the input that gives the highest activation for the hidden unit, given a “norm” constraint on the input (i.e., $||x||_2 \\le 1$)). \n",
    "\n",
    "The next cell does this by using the `displayData` function and it will show you an image with 25 units,\n",
    "each corresponding to one hidden unit in the network. In your trained network, you should find that the hidden units corresponds roughly to detectors that look for strokes and other patterns in the input."
   ]
  },
  {
   "cell_type": "code",
   "execution_count": 63,
   "metadata": {},
   "outputs": [
    {
     "data": {
      "image/png": "[encoded data removed]",
      "text/plain": [
       "<matplotlib.figure.Figure at 0x218fa209b70>"
      ]
     },
     "metadata": {
      "needs_background": "light"
     },
     "output_type": "display_data"
    }
   ],
   "source": [
    "utils.displayData(Theta1[:, 1:])"
   ]
  }
 ],
 "metadata": {
  "kernelspec": {
   "display_name": "Python 3",
   "language": "python",
   "name": "python3"
  },
  "language_info": {
   "codemirror_mode": {
    "name": "ipython",
    "version": 3
   },
   "file_extension": ".py",
   "mimetype": "text/x-python",
   "name": "python",
   "nbconvert_exporter": "python",
   "pygments_lexer": "ipython3",
   "version": "3.11.2"
  }
 },
 "nbformat": 4,
 "nbformat_minor": 2
}
