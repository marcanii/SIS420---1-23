{
 "cells": [
  {
   "cell_type": "code",
   "execution_count": 483,
   "metadata": {},
   "outputs": [],
   "source": [
    "# se utiliza para el manejo de rutas y directorios.\n",
    "import os\n",
    "# Calculo cientifico y vectorial para python\n",
    "import numpy as np\n",
    "# Librerias para graficar\n",
    "from matplotlib import pyplot\n",
    "# Modulo de optimización de scipy\n",
    "from scipy import optimize\n",
    "import pandas as pd\n",
    "import csv"
   ]
  },
  {
   "cell_type": "code",
   "execution_count": 484,
   "metadata": {},
   "outputs": [
    {
     "data": {
      "text/html": [
       "<div>\n",
       "<style scoped>\n",
       "    .dataframe tbody tr th:only-of-type {\n",
       "        vertical-align: middle;\n",
       "    }\n",
       "\n",
       "    .dataframe tbody tr th {\n",
       "        vertical-align: top;\n",
       "    }\n",
       "\n",
       "    .dataframe thead th {\n",
       "        text-align: right;\n",
       "    }\n",
       "</style>\n",
       "<table border=\"1\" class=\"dataframe\">\n",
       "  <thead>\n",
       "    <tr style=\"text-align: right;\">\n",
       "      <th></th>\n",
       "      <th>63</th>\n",
       "      <th>1</th>\n",
       "      <th>145</th>\n",
       "      <th>233</th>\n",
       "      <th>1.1</th>\n",
       "      <th>150</th>\n",
       "      <th>2.3</th>\n",
       "      <th>1.2</th>\n",
       "    </tr>\n",
       "  </thead>\n",
       "  <tbody>\n",
       "    <tr>\n",
       "      <th>0</th>\n",
       "      <td>37</td>\n",
       "      <td>1</td>\n",
       "      <td>130</td>\n",
       "      <td>250</td>\n",
       "      <td>0</td>\n",
       "      <td>187</td>\n",
       "      <td>3.5</td>\n",
       "      <td>1</td>\n",
       "    </tr>\n",
       "    <tr>\n",
       "      <th>1</th>\n",
       "      <td>41</td>\n",
       "      <td>0</td>\n",
       "      <td>130</td>\n",
       "      <td>204</td>\n",
       "      <td>0</td>\n",
       "      <td>172</td>\n",
       "      <td>1.4</td>\n",
       "      <td>1</td>\n",
       "    </tr>\n",
       "    <tr>\n",
       "      <th>2</th>\n",
       "      <td>56</td>\n",
       "      <td>1</td>\n",
       "      <td>120</td>\n",
       "      <td>236</td>\n",
       "      <td>0</td>\n",
       "      <td>178</td>\n",
       "      <td>0.8</td>\n",
       "      <td>1</td>\n",
       "    </tr>\n",
       "    <tr>\n",
       "      <th>3</th>\n",
       "      <td>57</td>\n",
       "      <td>0</td>\n",
       "      <td>120</td>\n",
       "      <td>354</td>\n",
       "      <td>0</td>\n",
       "      <td>163</td>\n",
       "      <td>0.6</td>\n",
       "      <td>1</td>\n",
       "    </tr>\n",
       "    <tr>\n",
       "      <th>4</th>\n",
       "      <td>57</td>\n",
       "      <td>1</td>\n",
       "      <td>140</td>\n",
       "      <td>192</td>\n",
       "      <td>0</td>\n",
       "      <td>148</td>\n",
       "      <td>0.4</td>\n",
       "      <td>1</td>\n",
       "    </tr>\n",
       "  </tbody>\n",
       "</table>\n",
       "</div>"
      ],
      "text/plain": [
       "   63  1  145  233  1.1  150  2.3  1.2\n",
       "0  37  1  130  250    0  187  3.5    1\n",
       "1  41  0  130  204    0  172  1.4    1\n",
       "2  56  1  120  236    0  178  0.8    1\n",
       "3  57  0  120  354    0  163  0.6    1\n",
       "4  57  1  140  192    0  148  0.4    1"
      ]
     },
     "execution_count": 484,
     "metadata": {},
     "output_type": "execute_result"
    }
   ],
   "source": [
    "# cargar a una variable el dataset\n",
    "data = pd.read_csv(\"heart_preparado.csv\")\n",
    "data.head()\n",
    "\n",
    "# 1) edad\n",
    "# 2) sexo\n",
    "# 3) presión arterial en reposo\n",
    "# 4) colesterol sérico en mg/dl\n",
    "# 5) azúcar en sangre en ayunas > 120 mg/dl\n",
    "# 6) frecuencia cardíaca máxima alcanzada\n",
    "# 7) pico anterior = depresión del ST inducida por el ejercicio en relación con el reposo\n",
    "# 8) objetivo: 0= menos posibilidades de ataque al corazón 1= más posibilidades de ataque al corazón"
   ]
  },
  {
   "cell_type": "code",
   "execution_count": 485,
   "metadata": {},
   "outputs": [
    {
     "name": "stdout",
     "output_type": "stream",
     "text": [
      "[[ 63.    1.  145.  ...   1.  150.    2.3]\n",
      " [ 37.    1.  130.  ...   0.  187.    3.5]\n",
      " [ 41.    0.  130.  ...   0.  172.    1.4]\n",
      " ...\n",
      " [ 68.    1.  144.  ...   1.  141.    3.4]\n",
      " [ 57.    1.  130.  ...   0.  115.    1.2]\n",
      " [ 57.    0.  130.  ...   0.  174.    0. ]]\n",
      "[1. 1. 1. 1. 1. 1. 1. 1. 1. 1. 1. 1. 1. 1. 1. 1. 1. 1. 1. 1. 1. 1. 1. 1.\n",
      " 1. 1. 1. 1. 1. 1. 1. 1. 1. 1. 1. 1. 1. 1. 1. 1. 1. 1. 1. 1. 1. 1. 1. 1.\n",
      " 1. 1. 1. 1. 1. 1. 1. 1. 1. 1. 1. 1. 1. 1. 1. 1. 1. 1. 1. 1. 1. 1. 1. 1.\n",
      " 1. 1. 1. 1. 1. 1. 1. 1. 1. 1. 1. 1. 1. 1. 1. 1. 1. 1. 1. 1. 1. 1. 1. 1.\n",
      " 1. 1. 1. 1. 1. 1. 1. 1. 1. 1. 1. 1. 1. 1. 1. 1. 1. 1. 1. 1. 1. 1. 1. 1.\n",
      " 1. 1. 1. 1. 1. 1. 1. 1. 1. 1. 1. 1. 1. 1. 1. 1. 1. 1. 1. 1. 1. 1. 1. 1.\n",
      " 1. 1. 1. 1. 1. 1. 1. 1. 1. 1. 1. 1. 1. 1. 1. 1. 1. 1. 1. 1. 1. 0. 0. 0.\n",
      " 0. 0. 0. 0. 0. 0. 0. 0. 0. 0. 0. 0. 0. 0. 0. 0. 0. 0. 0. 0. 0. 0. 0. 0.\n",
      " 0. 0. 0. 0. 0. 0. 0. 0. 0. 0. 0. 0. 0. 0. 0. 0. 0. 0. 0. 0. 0. 0. 0. 0.\n",
      " 0. 0. 0. 0. 0. 0. 0. 0. 0. 0. 0. 0. 0. 0. 0. 0. 0. 0. 0. 0. 0. 0. 0. 0.\n",
      " 0. 0. 0. 0. 0. 0. 0. 0. 0. 0. 0. 0. 0. 0. 0. 0. 0. 0. 0. 0. 0. 0. 0. 0.\n",
      " 0. 0. 0. 0. 0. 0. 0. 0. 0. 0. 0. 0. 0. 0. 0. 0. 0. 0. 0. 0. 0. 0. 0. 0.\n",
      " 0. 0. 0. 0. 0. 0. 0. 0. 0. 0. 0. 0. 0. 0. 0.]\n"
     ]
    }
   ],
   "source": [
    "data = np.loadtxt('heart_preparado.csv', delimiter=',')\n",
    "X_datos, y_datos = data[:, 0:7], data[:, 7]\n",
    "print(X_datos)\n",
    "print(y_datos)"
   ]
  },
  {
   "cell_type": "code",
   "execution_count": 486,
   "metadata": {},
   "outputs": [],
   "source": [
    "# funcion para la normalizacion de caracteristicas\n",
    "def  featureNormalize(X):\n",
    "    X_norm = X.copy()\n",
    "    media_norm = np.zeros(X.shape[1])\n",
    "    sigma = np.zeros(X.shape[1])\n",
    "\n",
    "    media_norm = np.mean(X, axis = 0)\n",
    "    sigma = np.std(X, axis = 0)\n",
    "    X_norm = (X - media_norm) / sigma\n",
    "    \n",
    "    return X_norm, media_norm, sigma"
   ]
  },
  {
   "cell_type": "code",
   "execution_count": 487,
   "metadata": {},
   "outputs": [],
   "source": [
    "X_norm, media_norm, sigma = featureNormalize(X_datos)"
   ]
  },
  {
   "cell_type": "code",
   "execution_count": 488,
   "metadata": {},
   "outputs": [
    {
     "name": "stdout",
     "output_type": "stream",
     "text": [
      "[ 57.    1.  140.  192.    0.  148.    0.4]\n"
     ]
    }
   ],
   "source": [
    "#X = X_norm\n",
    "X = X_datos\n",
    "y = y_datos.T\n",
    "print(X[5])"
   ]
  },
  {
   "cell_type": "code",
   "execution_count": 489,
   "metadata": {},
   "outputs": [],
   "source": [
    "def sigmoid(z):\n",
    "    # Calcula la sigmoide de una entrada z\n",
    "    # convierte la intrada a un arreglo numpy\n",
    "    z = np.array(z)\n",
    "    g = np.zeros(z.shape)\n",
    "    g = 1 / (1 + np.exp(-z))\n",
    "\n",
    "    return g"
   ]
  },
  {
   "cell_type": "code",
   "execution_count": 490,
   "metadata": {},
   "outputs": [],
   "source": [
    "# Configurar la matriz adecuadamente, y agregar una columna de unos que corresponde al termino de intercepción. \n",
    "m, n = X.shape\n",
    "# Agraga el termino de intercepción a A\n",
    "X = np.concatenate([np.ones((m, 1)), X], axis=1)"
   ]
  },
  {
   "cell_type": "code",
   "execution_count": 491,
   "metadata": {},
   "outputs": [
    {
     "name": "stdout",
     "output_type": "stream",
     "text": [
      "[  1.   37.    1.  130.  250.    0.  187.    3.5]\n"
     ]
    }
   ],
   "source": [
    "print(X[1])"
   ]
  },
  {
   "cell_type": "code",
   "execution_count": 492,
   "metadata": {},
   "outputs": [],
   "source": [
    "# funcion del costo\n",
    "def calcularCosto(theta, X, y):\n",
    "    # Inicializar algunos valores utiles\n",
    "    m = y.size  # numero de ejemplos de entrenamiento\n",
    "    J = 0\n",
    "    h = sigmoid(X.dot(theta.T))\n",
    "    J = (1 / m) * np.sum(-y.dot(np.log(h)) - (1 - y).dot(np.log(1 - h)))\n",
    "    \n",
    "    return J"
   ]
  },
  {
   "cell_type": "code",
   "execution_count": 493,
   "metadata": {},
   "outputs": [],
   "source": [
    "def descensoGradiente(theta, X, y, alpha, num_iters):\n",
    "    # Inicializa algunos valores\n",
    "    m = y.shape[0] # numero de ejemplos de entrenamiento\n",
    "    \n",
    "    # realiza una copia de theta, el cual será acutalizada por el descenso por el gradiente\n",
    "    theta = theta.copy()\n",
    "    J_history = []\n",
    "    \n",
    "    for i in range(num_iters):\n",
    "        h = sigmoid(X.dot(theta.T))\n",
    "        theta = theta - (alpha / m) * (h - y).dot(X)\n",
    "       \n",
    "        J_history.append(calcularCosto(theta, X, y))\n",
    "    return theta, J_history"
   ]
  },
  {
   "cell_type": "code",
   "execution_count": 494,
   "metadata": {},
   "outputs": [
    {
     "name": "stdout",
     "output_type": "stream",
     "text": [
      "theta calculado por el descenso por el gradiente: [-3.63337671e-04 -1.84112493e-02 -5.85083428e-03 -2.23230250e-02\n",
      " -4.06810477e-03  3.51693023e-05  3.46324476e-02 -1.32363375e-02]\n"
     ]
    },
    {
     "data": {
      "image/png": "[encoded data removed]",
      "text/plain": [
       "<Figure size 640x480 with 1 Axes>"
      ]
     },
     "metadata": {},
     "output_type": "display_data"
    }
   ],
   "source": [
    "# Elegir algun valor para alpha (probar varias alternativas)\n",
    "alpha = 0.00001\n",
    "num_iters = 8000\n",
    "\n",
    "# inicializa theta y ejecuta el descenso por el gradiente\n",
    "theta = np.zeros(8)\n",
    "theta, J_history = descensoGradiente(theta, X, y, alpha, num_iters)\n",
    "\n",
    "# Grafica la convergencia del costo\n",
    "pyplot.plot(np.arange(len(J_history)), J_history, lw=2)\n",
    "pyplot.xlabel('Numero de iteraciones')\n",
    "pyplot.ylabel('Costo J')\n",
    "\n",
    "# Muestra los resultados del descenso por el gradiente\n",
    "print('theta calculado por el descenso por el gradiente: {:s}'.format(str(theta)))"
   ]
  },
  {
   "cell_type": "code",
   "execution_count": 505,
   "metadata": {},
   "outputs": [
    {
     "name": "stdout",
     "output_type": "stream",
     "text": [
      "Para una persona con esas caracteristicas, se predice una probabilidad de acierto de: 0.655%\n"
     ]
    }
   ],
   "source": [
    "# verificar si le va dar un ataque al corazon o no\n",
    "# [1, 54, 0, 135, 304, 1, 170, 0.0] que si\n",
    "# [1, 57, 1, 152, 274, 0, 88, 1.2] que no\n",
    "X_array = [1, 54, 0, 135, 304, 1, 170, 0.0]\n",
    "prueba = sigmoid(np.dot(X_array, theta))   # Se debe cambiar esto\n",
    "\n",
    "print(\"Para una persona con esas caracteristicas, se predice una probabilidad de acierto de: {:.3f}%\".format(prueba))"
   ]
  },
  {
   "cell_type": "code",
   "execution_count": 496,
   "metadata": {},
   "outputs": [],
   "source": [
    "# Se prueba la funcion `costFunction` utilizando dos casos de prueba para theta.\n",
    "def costFunction(theta, X, y):\n",
    "    # Inicializar algunos valores utiles\n",
    "    m = y.size  # numero de ejemplos de entrenamiento\n",
    "\n",
    "    J = 0\n",
    "    grad = np.zeros(theta.shape)\n",
    "\n",
    "    h = sigmoid(X.dot(theta.T))\n",
    "    \n",
    "    J = (1 / m) * np.sum(-y.dot(np.log(h)) - (1 - y).dot(np.log(1 - h)))\n",
    "    grad = (1 / m) * (h - y).dot(X)\n",
    "    \n",
    "    return J, grad"
   ]
  },
  {
   "cell_type": "code",
   "execution_count": 497,
   "metadata": {},
   "outputs": [
    {
     "name": "stdout",
     "output_type": "stream",
     "text": [
      "[0. 0. 0. 0. 0. 0. 0. 0.]\n",
      "Costo en theta inicial (zeros): 0.693\n",
      "Costo esperado (aproximado): 0.693\n",
      "\n",
      "[-4.45544554e-02 -1.40429043e+00  3.46534653e-02 -4.60066007e+00\n",
      " -8.77557756e+00 -1.65016502e-03 -1.14702970e+01  2.02310231e-01]\n"
     ]
    }
   ],
   "source": [
    "# Inicializacion de parametros de ajuste\n",
    "initial_theta = np.zeros(n+1)\n",
    "print(initial_theta)\n",
    "cost, grad = costFunction(initial_theta, X, y)\n",
    "\n",
    "print('Costo en theta inicial (zeros): {:.3f}'.format(cost))\n",
    "print('Costo esperado (aproximado): 0.693\\n')\n",
    "print(grad)"
   ]
  },
  {
   "cell_type": "code",
   "execution_count": 498,
   "metadata": {},
   "outputs": [
    {
     "name": "stdout",
     "output_type": "stream",
     "text": [
      "[-2.36589148e-04 -1.64149558e-02 -3.66329988e-03 -2.23703112e-02\n",
      " -4.20391908e-03 -9.04881023e-06  3.41271447e-02 -8.66100802e-03]\n",
      "Costo en theta prueba: 0.585\n"
     ]
    }
   ],
   "source": [
    "# Calcula y muestra el costo y el gradiente con valores de theta diferentes a cero\n",
    "\n",
    "test_theta = np.array([-2.36589148e-04, -1.64149558e-02, -3.66329988e-03, -2.23703112e-02, -4.20391908e-03, -9.04881023e-06, 3.41271447e-02, -8.66100802e-03])\n",
    "#test_theta = np.array([-11.74749157, 0.09927308, 0.09316497])\n",
    "print(test_theta)\n",
    "cost, grad = costFunction(test_theta, X, y)\n",
    "\n",
    "print('Costo en theta prueba: {:.3f}'.format(cost))"
   ]
  },
  {
   "cell_type": "code",
   "execution_count": 499,
   "metadata": {},
   "outputs": [
    {
     "name": "stdout",
     "output_type": "stream",
     "text": [
      "Costo con un valor de theta encontrado por optimize.minimize: 0.483\n",
      "theta:\n",
      "\t[0.635, -0.012, -1.796, -0.014, -0.007, 0.097, 0.038, -0.662]\n"
     ]
    }
   ],
   "source": [
    "# Establecer las opciones para optimize.minimize\n",
    "options= {'maxfun': 1000}\n",
    "\n",
    "# revisar la documentacion de scipy's optimize.minimize para mayor descripcion de los parametros\n",
    "# La funcion devuekve un objeto `OptimizeResult`\n",
    "# Se utiliza el algoritmo de Newton truncado para la optimización.\n",
    "res = optimize.minimize(costFunction,\n",
    "                        initial_theta,\n",
    "                        (X, y),\n",
    "                        jac=True,\n",
    "                        method='TNC',\n",
    "                        options=options)\n",
    "\n",
    "# la propiedad fun del objeto devuelto por `OptimizeResult`\n",
    "# contiene el valor del costFunction de un theta optimizado\n",
    "cost = res.fun\n",
    "\n",
    "# Theta optimizada esta en la propiedad x\n",
    "theta_minimze = res.x\n",
    "\n",
    "# Imprimir theta en la pantalla\n",
    "print('Costo con un valor de theta encontrado por optimize.minimize: {:.3f}'.format(cost))\n",
    "\n",
    "print('theta:')\n",
    "print('\\t[{:.3f}, {:.3f}, {:.3f}, {:.3f}, {:.3f}, {:.3f}, {:.3f}, {:.3f}]'.format(*theta_minimze))"
   ]
  },
  {
   "cell_type": "code",
   "execution_count": 500,
   "metadata": {},
   "outputs": [],
   "source": [
    "def predict(theta, X):\n",
    "    \"\"\"\n",
    "    Predecir si la etiqueta es 0 o 1 mediante regresión logística aprendida.\n",
    "    Calcula las predicciones para X usando un umbral en 0.5 (es decir, si sigmoide (theta.T * x)> = 0.5, predice 1)\n",
    "\n",
    "    Parametros\n",
    "    ----------\n",
    "    theta : array_like\n",
    "        Parametros para regresion logistica. Un vecto de la forma (n+1, ).\n",
    "    \n",
    "    X : array_like\n",
    "        Datos utilizados para el calculo de las predicciones. \n",
    "        La fila es el numero de los puntos para calcular las predicciones, \n",
    "        y las columnas con el numero de caracteristicas.\n",
    "\n",
    "    Devuelve\n",
    "    -------\n",
    "    p : array_like\n",
    "        Predicciones y 0 o 1 para cada fila en X. \n",
    "    \"\"\"\n",
    "    m = X.shape[0] # Numero de ejemplo de entrenamiento\n",
    "\n",
    "    p = np.zeros(m)\n",
    "\n",
    "    p = np.round(sigmoid(X.dot(theta.T)))\n",
    "    return p"
   ]
  },
  {
   "cell_type": "code",
   "execution_count": 504,
   "metadata": {},
   "outputs": [
    {
     "name": "stdout",
     "output_type": "stream",
     "text": [
      "Para una persona con esas caracteristicas, se predice una probabilidad de acierto de: 0.928%\n",
      "Precisión de entrenamiento: 77.56 %\n"
     ]
    }
   ],
   "source": [
    "# verificar si le va dar un ataque al corazon o no\n",
    "# [1, 54, 0, 135, 304, 1, 170, 0.0] que si\n",
    "# [1, 57, 1, 152, 274, 0, 88, 1.2] que no\n",
    "X_array = [1, 54, 0, 135, 304, 1, 170, 0.0]\n",
    "\n",
    "prob = sigmoid(np.dot(X_array, theta_minimze))\n",
    "\n",
    "print(\"Para una persona con esas caracteristicas, se predice una probabilidad de acierto de: {:.3f}%\".format(prob))\n",
    "\n",
    "# Compute accuracy on our training set\n",
    "p = predict(theta_minimze, X)\n",
    "print(\"Precisión de entrenamiento: {:.2f} %\".format(np.mean(p == y) * 100))"
   ]
  }
 ],
 "metadata": {
  "kernelspec": {
   "display_name": "Python 3",
   "language": "python",
   "name": "python3"
  },
  "language_info": {
   "codemirror_mode": {
    "name": "ipython",
    "version": 3
   },
   "file_extension": ".py",
   "mimetype": "text/x-python",
   "name": "python",
   "nbconvert_exporter": "python",
   "pygments_lexer": "ipython3",
   "version": "3.11.3"
  },
  "orig_nbformat": 4
 },
 "nbformat": 4,
 "nbformat_minor": 2
}
