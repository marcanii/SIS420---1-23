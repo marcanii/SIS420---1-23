{
  "cells": [
    {
      "cell_type": "code",
      "execution_count": null,
      "metadata": {
        "id": "E5lJJhxzZBa1"
      },
      "outputs": [],
      "source": [
        "from math import inf as infinity\n",
        "import matplotlib.pyplot as plt"
      ]
    },
    {
      "cell_type": "code",
      "execution_count": null,
      "metadata": {
        "id": "n5zwQYjoYE8T"
      },
      "outputs": [],
      "source": [
        "superficies = [150, 200, 500, 550, 320, 200, 800, 210, 180, 350]\n",
        "precios = [45000, 120000, 130000, 350000, 190000, 160000, 200000, 50000, 75000, 210000]\n",
        "\n",
        "parametro_a = []\n",
        "parametro_b = []"
      ]
    },
    {
      "cell_type": "code",
      "execution_count": null,
      "metadata": {
        "colab": {
          "base_uri": "https://localhost:8080/"
        },
        "id": "6zd1O9UoYlqu",
        "outputId": "6cf2a391-5152-4ae5-b62e-cff0bf899f69"
      },
      "outputs": [
        {
          "name": "stdout",
          "output_type": "stream",
          "text": [
            "Los mejores coheficiente en la ecuacion de la linea recta, para x=150, son a: 900 y para b: 294\n",
            "Los mejores coheficiente en la ecuacion de la linea recta, para x=200, son a: 800 y para b: 596\n",
            "Los mejores coheficiente en la ecuacion de la linea recta, para x=500, son a: 500 y para b: 259\n",
            "Los mejores coheficiente en la ecuacion de la linea recta, para x=550, son a: 750 y para b: 635\n",
            "Los mejores coheficiente en la ecuacion de la linea recta, para x=320, son a: 880 y para b: 591\n",
            "Los mejores coheficiente en la ecuacion de la linea recta, para x=200, son a: 800 y para b: 796\n",
            "Los mejores coheficiente en la ecuacion de la linea recta, para x=800, son a: 800 y para b: 249\n",
            "Los mejores coheficiente en la ecuacion de la linea recta, para x=210, son a: 860 y para b: 234\n",
            "Los mejores coheficiente en la ecuacion de la linea recta, para x=180, son a: 840 y para b: 412\n",
            "Los mejores coheficiente en la ecuacion de la linea recta, para x=350, son a: 700 y para b: 598\n",
            "783.0 466.4\n"
          ]
        }
      ],
      "source": [
        "for xi, x in enumerate(superficies):\n",
        "  mejor_diferencia = infinity\n",
        "  a_mejor = 0\n",
        "  b_mejor = 0\n",
        "  diferencia_actual = 0\n",
        "  for a in range(-1000, 1000):\n",
        "    for b in range(-1000, 1000):\n",
        "      y_hat = a + b * x\n",
        "      # print(y_hat)\n",
        "      diferencia_actual = abs(y_hat - precios[xi])\n",
        "      # print(diferencia_actual)\n",
        "      if diferencia_actual <= mejor_diferencia:\n",
        "        mejor_diferencia = diferencia_actual\n",
        "        a_mejor = a\n",
        "        b_mejor = b\n",
        "\n",
        "  print(f\"Los mejores coheficiente en la ecuacion de la linea recta, para x={x}, son a: {a_mejor} y para b: {b_mejor}\")\n",
        "  parametro_a.append(a_mejor)\n",
        "  parametro_b.append(b_mejor)\n",
        "\n",
        "\n",
        "sumatoria_a = 0\n",
        "for ca in parametro_a:\n",
        "  sumatoria_a += ca\n",
        "promedio_a = sumatoria_a / len(parametro_a)\n",
        "\n",
        "sumatoria_b = 0\n",
        "for cb in parametro_b:\n",
        "  sumatoria_b += cb\n",
        "promedio_b = sumatoria_b / len(parametro_b)\n",
        "\n",
        "print(\"Mejor valor para a y b:\")\n",
        "print(promedio_a, promedio_b)\n"
      ]
    },
    {
      "cell_type": "code",
      "execution_count": null,
      "metadata": {
        "colab": {
          "base_uri": "https://localhost:8080/",
          "height": 448
        },
        "id": "-32EtCcY3OQy",
        "outputId": "46c5b202-be4b-409a-e750-055402d1b58c"
      },
      "outputs": [
        {
          "data": {
            "text/plain": [
              "<matplotlib.collections.PathCollection at 0x7f0d4846b370>"
            ]
          },
          "execution_count": 7,
          "metadata": {},
          "output_type": "execute_result"
        },
        {
          "data": {
            "image/png": "[encoded data removed]",
            "text/plain": [
              "<Figure size 640x480 with 1 Axes>"
            ]
          },
          "metadata": {},
          "output_type": "display_data"
        }
      ],
      "source": [
        "plt.scatter(x=superficies, y=precios)"
      ]
    },
    {
      "cell_type": "code",
      "execution_count": null,
      "metadata": {
        "colab": {
          "base_uri": "https://localhost:8080/"
        },
        "id": "o74mbvs83TYr",
        "outputId": "07f220db-c120-4930-9fa6-9cf06182f3e4"
      },
      "outputs": [
        {
          "name": "stdout",
          "output_type": "stream",
          "text": [
            "210663\n"
          ]
        }
      ],
      "source": [
        "a = 783.0\n",
        "b = 466.4\n",
        "x = 450\n",
        "y_hat_new = a + b*x\n",
        "y_hat_new = round(y_hat_new)\n",
        "print(y_hat_new)"
      ]
    }
  ],
  "metadata": {
    "colab": {
      "provenance": []
    },
    "kernelspec": {
      "display_name": "Python 3",
      "name": "python3"
    },
    "language_info": {
      "name": "python"
    }
  },
  "nbformat": 4,
  "nbformat_minor": 0
}
