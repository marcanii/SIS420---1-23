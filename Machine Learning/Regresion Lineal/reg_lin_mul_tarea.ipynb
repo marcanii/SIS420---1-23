{
 "cells": [
  {
   "attachments": {},
   "cell_type": "markdown",
   "metadata": {},
   "source": [
    "# Ejercicio de programación Regresión Lineal Multiple"
   ]
  },
  {
   "cell_type": "code",
   "execution_count": 180,
   "metadata": {},
   "outputs": [],
   "source": [
    "# utilizado para manejos de directorios y rutas\n",
    "import os\n",
    "import pandas as pd\n",
    "# Computacion vectorial y cientifica para python\n",
    "import numpy as np\n",
    "import csv\n",
    "# Librerias para graficación (trazado de gráficos)\n",
    "from matplotlib import pyplot\n",
    "from mpl_toolkits.mplot3d import Axes3D  # Necesario para graficar superficies 3D"
   ]
  },
  {
   "attachments": {},
   "cell_type": "markdown",
   "metadata": {},
   "source": [
    "## 2 Regresión lineal con multiples variables\n",
    "\n",
    "Se implementa la regresion lineal multivariable para predecir el precio de las casas. El archivo `Sport_car_price.csv` contiene un conjunto de entrenamiento de precios de casas en Portland, Oregon. La primera columna es el tamaño de la casa en metros cuadrados, la segunda columna es el numero de cuartos, y la tercera columna es el precio de la casa. \n",
    "\n",
    "<a id=\"section4\"></a>\n",
    "### 2.1 Normalización de caracteristicas\n",
    "\n",
    "Al visualizar los datos se puede observar que las caracteristicas tienen diferentes magnitudes, por lo cual se debe transformar cada valor en una escala de valores similares, esto con el fin de que el descenso por el gradiente pueda converger mas rapidamente."
   ]
  },
  {
   "cell_type": "code",
   "execution_count": 181,
   "metadata": {},
   "outputs": [
    {
     "data": {
      "text/html": [
       "<div>\n",
       "<style scoped>\n",
       "    .dataframe tbody tr th:only-of-type {\n",
       "        vertical-align: middle;\n",
       "    }\n",
       "\n",
       "    .dataframe tbody tr th {\n",
       "        vertical-align: top;\n",
       "    }\n",
       "\n",
       "    .dataframe thead th {\n",
       "        text-align: right;\n",
       "    }\n",
       "</style>\n",
       "<table border=\"1\" class=\"dataframe\">\n",
       "  <thead>\n",
       "    <tr style=\"text-align: right;\">\n",
       "      <th></th>\n",
       "      <th>Car Make</th>\n",
       "      <th>Car Model</th>\n",
       "      <th>Year</th>\n",
       "      <th>Engine Size (L)</th>\n",
       "      <th>Horsepower</th>\n",
       "      <th>Torque (lb-ft)</th>\n",
       "      <th>0-60 MPH Time (seconds)</th>\n",
       "      <th>Price (in USD)</th>\n",
       "    </tr>\n",
       "  </thead>\n",
       "  <tbody>\n",
       "    <tr>\n",
       "      <th>0</th>\n",
       "      <td>Porsche</td>\n",
       "      <td>911</td>\n",
       "      <td>2022</td>\n",
       "      <td>3</td>\n",
       "      <td>379</td>\n",
       "      <td>331</td>\n",
       "      <td>4</td>\n",
       "      <td>101,200</td>\n",
       "    </tr>\n",
       "    <tr>\n",
       "      <th>1</th>\n",
       "      <td>Lamborghini</td>\n",
       "      <td>Huracan</td>\n",
       "      <td>2021</td>\n",
       "      <td>5.2</td>\n",
       "      <td>630</td>\n",
       "      <td>443</td>\n",
       "      <td>2.8</td>\n",
       "      <td>274,390</td>\n",
       "    </tr>\n",
       "    <tr>\n",
       "      <th>2</th>\n",
       "      <td>Ferrari</td>\n",
       "      <td>488 GTB</td>\n",
       "      <td>2022</td>\n",
       "      <td>3.9</td>\n",
       "      <td>661</td>\n",
       "      <td>561</td>\n",
       "      <td>3</td>\n",
       "      <td>333,750</td>\n",
       "    </tr>\n",
       "    <tr>\n",
       "      <th>3</th>\n",
       "      <td>Audi</td>\n",
       "      <td>R8</td>\n",
       "      <td>2022</td>\n",
       "      <td>5.2</td>\n",
       "      <td>562</td>\n",
       "      <td>406</td>\n",
       "      <td>3.2</td>\n",
       "      <td>142,700</td>\n",
       "    </tr>\n",
       "    <tr>\n",
       "      <th>4</th>\n",
       "      <td>McLaren</td>\n",
       "      <td>720S</td>\n",
       "      <td>2021</td>\n",
       "      <td>4</td>\n",
       "      <td>710</td>\n",
       "      <td>568</td>\n",
       "      <td>2.7</td>\n",
       "      <td>298,000</td>\n",
       "    </tr>\n",
       "    <tr>\n",
       "      <th>...</th>\n",
       "      <td>...</td>\n",
       "      <td>...</td>\n",
       "      <td>...</td>\n",
       "      <td>...</td>\n",
       "      <td>...</td>\n",
       "      <td>...</td>\n",
       "      <td>...</td>\n",
       "      <td>...</td>\n",
       "    </tr>\n",
       "    <tr>\n",
       "      <th>1002</th>\n",
       "      <td>Koenigsegg</td>\n",
       "      <td>Jesko</td>\n",
       "      <td>2022</td>\n",
       "      <td>5</td>\n",
       "      <td>1280</td>\n",
       "      <td>1106</td>\n",
       "      <td>2.5</td>\n",
       "      <td>3,000,000</td>\n",
       "    </tr>\n",
       "    <tr>\n",
       "      <th>1003</th>\n",
       "      <td>Lotus</td>\n",
       "      <td>Evija</td>\n",
       "      <td>2021</td>\n",
       "      <td>Electric</td>\n",
       "      <td>1972</td>\n",
       "      <td>1254</td>\n",
       "      <td>2</td>\n",
       "      <td>2,000,000</td>\n",
       "    </tr>\n",
       "    <tr>\n",
       "      <th>1004</th>\n",
       "      <td>McLaren</td>\n",
       "      <td>Senna</td>\n",
       "      <td>2021</td>\n",
       "      <td>4</td>\n",
       "      <td>789</td>\n",
       "      <td>590</td>\n",
       "      <td>2.7</td>\n",
       "      <td>1,000,000</td>\n",
       "    </tr>\n",
       "    <tr>\n",
       "      <th>1005</th>\n",
       "      <td>Pagani</td>\n",
       "      <td>Huayra</td>\n",
       "      <td>2021</td>\n",
       "      <td>6</td>\n",
       "      <td>764</td>\n",
       "      <td>738</td>\n",
       "      <td>3</td>\n",
       "      <td>2,600,000</td>\n",
       "    </tr>\n",
       "    <tr>\n",
       "      <th>1006</th>\n",
       "      <td>Rimac</td>\n",
       "      <td>Nevera</td>\n",
       "      <td>2021</td>\n",
       "      <td>Electric</td>\n",
       "      <td>1888</td>\n",
       "      <td>1696</td>\n",
       "      <td>1.85</td>\n",
       "      <td>2,400,000</td>\n",
       "    </tr>\n",
       "  </tbody>\n",
       "</table>\n",
       "<p>1007 rows × 8 columns</p>\n",
       "</div>"
      ],
      "text/plain": [
       "         Car Make Car Model  Year Engine Size (L) Horsepower Torque (lb-ft)   \n",
       "0         Porsche       911  2022               3        379            331  \\\n",
       "1     Lamborghini   Huracan  2021             5.2        630            443   \n",
       "2         Ferrari   488 GTB  2022             3.9        661            561   \n",
       "3            Audi        R8  2022             5.2        562            406   \n",
       "4         McLaren      720S  2021               4        710            568   \n",
       "...           ...       ...   ...             ...        ...            ...   \n",
       "1002   Koenigsegg     Jesko  2022               5       1280           1106   \n",
       "1003        Lotus     Evija  2021        Electric       1972           1254   \n",
       "1004      McLaren     Senna  2021               4        789            590   \n",
       "1005       Pagani    Huayra  2021               6        764            738   \n",
       "1006        Rimac    Nevera  2021        Electric       1888           1696   \n",
       "\n",
       "     0-60 MPH Time (seconds) Price (in USD)  \n",
       "0                          4        101,200  \n",
       "1                        2.8        274,390  \n",
       "2                          3        333,750  \n",
       "3                        3.2        142,700  \n",
       "4                        2.7        298,000  \n",
       "...                      ...            ...  \n",
       "1002                     2.5      3,000,000  \n",
       "1003                       2      2,000,000  \n",
       "1004                     2.7      1,000,000  \n",
       "1005                       3      2,600,000  \n",
       "1006                    1.85      2,400,000  \n",
       "\n",
       "[1007 rows x 8 columns]"
      ]
     },
     "execution_count": 181,
     "metadata": {},
     "output_type": "execute_result"
    }
   ],
   "source": [
    "# Cargar datos\n",
    "# https://www.kaggle.com/datasets/rkiattisak/sports-car-prices-dataset\n",
    "data = pd.read_csv('Sport_car_price.csv')\n",
    "data"
   ]
  },
  {
   "cell_type": "code",
   "execution_count": 182,
   "metadata": {},
   "outputs": [],
   "source": [
    "# Abrir el archivo CSV para lectura\n",
    "with open('Sport_car_price.csv', 'r') as file:\n",
    "    # Crear un objeto lector CSV\n",
    "    reader = csv.reader(file)\n",
    "    # Leer todas las filas en una lista y saltar la primera fila\n",
    "    rows = [row for i, row in enumerate(reader) if i > 0]\n",
    "    # Convertir la lista de filas en una matriz numpy\n",
    "    data = np.array(rows)\n",
    "    # Obtener las columnas de la matriz\n",
    "    col1 = data[:, 2]\n",
    "    col2 = data[:, 3]\n",
    "    col3 = data[:, 4]\n",
    "    col4 = data[:, 5]\n",
    "    col5 = data[:, 6]\n",
    "    y = data[:, 7]"
   ]
  },
  {
   "cell_type": "code",
   "execution_count": 183,
   "metadata": {},
   "outputs": [],
   "source": [
    "# cambriar variables cualitativos a cuantitativos de la col2\n",
    "col2[col2 == 'Electric'] = '0'\n",
    "col2[col2 == 'N/A'] = '0'\n",
    "col2[col2 == '-'] = '0'\n",
    "col2[col2 == 'Hybrid'] = '0'\n",
    "# cambriar variables cualitativos a cuantitativos de la col3\n",
    "col3[col3 == '1000+'] = '1000'\n",
    "col3[col3 == '1,000+'] = '1000'\n",
    "col3[col3 == '10000+'] = '10000'\n",
    "col3[col3 == '10,000+'] = '10000'\n",
    "col3[col3 == '10,000'] = '10000'\n",
    "col3[col3 == '1,500'] = '1500'\n",
    "col3[col3 == '1,020'] = '1020'\n",
    "# cambriar variables cualitativos a cuantitativos de la col4\n",
    "col4[col4 == '-'] = '0'\n",
    "col4[col4 == '10,000+'] = '10000'\n",
    "col4[col4 == 'N/A'] = '0'\n",
    "col4[col4 == '7,376'] = '7376'\n",
    "col4[col4 == '1,180'] = '1180'\n",
    "col4[col4 == '1,050'] = '1050'\n",
    "# cambriar variables cualitativos a cuantitativos de la col5\n",
    "col5[col5 == '< 1.9'] = '1.9'"
   ]
  },
  {
   "cell_type": "code",
   "execution_count": 184,
   "metadata": {},
   "outputs": [],
   "source": [
    "# Convertir los arreglos de x de strings a un arreglo de floats\n",
    "col1 = col1.astype(np.float64).reshape(-1, 1)\n",
    "col2 = col2.astype(np.float64).reshape(-1, 1)\n",
    "col3 = col3.astype(np.float64).reshape(-1, 1)\n",
    "col4 = col4.astype(np.float64).reshape(-1, 1)\n",
    "col5 = col5.astype(np.float64).reshape(-1, 1)"
   ]
  },
  {
   "cell_type": "code",
   "execution_count": 185,
   "metadata": {},
   "outputs": [],
   "source": [
    "# Reemplazar la coma por una cadena vacía en todos los elementos del arreglo\n",
    "y = np.char.replace(y, ',', '')"
   ]
  },
  {
   "cell_type": "code",
   "execution_count": 186,
   "metadata": {},
   "outputs": [],
   "source": [
    "# Convertir los arreglos de x de strings a un arreglo de floats\n",
    "y = y.astype(np.float64)"
   ]
  },
  {
   "cell_type": "code",
   "execution_count": 187,
   "metadata": {},
   "outputs": [],
   "source": [
    "# Unir los dos vectores en una matriz de dos columnas\n",
    "x = np.hstack((col1, col2, col3, col4, col5))"
   ]
  },
  {
   "cell_type": "code",
   "execution_count": 193,
   "metadata": {},
   "outputs": [
    {
     "name": "stdout",
     "output_type": "stream",
     "text": [
      "  X[:,0] X[:, 1] X[:, 2] X[:, 3] X[:, 4]         y\n",
      "----------------------------------------------------\n",
      "    2022       3     379     331       4    101200\n",
      "    2021       5     630     443       3    274390\n",
      "    2022       4     661     561       3    333750\n",
      "    2022       5     562     406       3    142700\n",
      "    2021       4     710     568       3    298000\n",
      "    2022       4     617     553       3    130000\n",
      "    2021       4     523     494       4    118500\n",
      "    2021       6     490     465       3     59900\n",
      "    2022       5     760     625       4     81000\n",
      "    2021       4     600     481       2    212000\n"
     ]
    }
   ],
   "source": [
    "# imprimir algunos puntos de datos\n",
    "print('{:>8s}{:>8s}{:>8s}{:>8s}{:>8s}{:>10s}'.format('X[:,0]', 'X[:, 1]', 'X[:, 2]', 'X[:, 3]', 'X[:, 4]', 'y'))\n",
    "print('-'*52)\n",
    "for i in range(10):\n",
    "    print('{:8.0f}{:8.0f}{:8.0f}{:8.0f}{:8.0f}{:10.0f}'.format(x[i, 0], x[i, 1], x[i, 2], x[i, 3], x[i, 4], y[i]))"
   ]
  },
  {
   "cell_type": "code",
   "execution_count": 195,
   "metadata": {},
   "outputs": [],
   "source": [
    "# normalizacion de caracteristicas\n",
    "def  featureNormalize(X):\n",
    "    X_norm = X.copy()\n",
    "    mu = np.zeros(X.shape[1])\n",
    "    sigma = np.zeros(X.shape[1])\n",
    "\n",
    "    mu = np.mean(X, axis = 0)\n",
    "    sigma = np.std(X, axis = 0)\n",
    "    X_norm = (X - mu) / sigma\n",
    "    \n",
    "    return X_norm, mu, sigma"
   ]
  },
  {
   "cell_type": "code",
   "execution_count": 196,
   "metadata": {},
   "outputs": [
    {
     "name": "stdout",
     "output_type": "stream",
     "text": [
      "[[2.022e+03 3.000e+00 3.790e+02 3.310e+02 4.000e+00]\n",
      " [2.021e+03 5.200e+00 6.300e+02 4.430e+02 2.800e+00]\n",
      " [2.022e+03 3.900e+00 6.610e+02 5.610e+02 3.000e+00]\n",
      " ...\n",
      " [2.021e+03 4.000e+00 7.890e+02 5.900e+02 2.700e+00]\n",
      " [2.021e+03 6.000e+00 7.640e+02 7.380e+02 3.000e+00]\n",
      " [2.021e+03 0.000e+00 1.888e+03 1.696e+03 1.850e+00]]\n",
      "Media calculada: [2021.20158888    4.14617676  657.98411122  557.34756703    3.51340616]\n",
      "Desviación estandar calculada: [  2.01879881   1.69464452 592.72332095 441.68752222   0.77725296]\n",
      "[[ 0.39548821 -0.67635233 -0.47068185 -0.51246086  0.62604309]\n",
      " [-0.09985585  0.62185504 -0.04721277 -0.25888793 -0.91785583]\n",
      " [ 0.39548821 -0.14526749  0.00508819  0.00826927 -0.66053934]\n",
      " ...\n",
      " [-0.09985585 -0.08625807  0.22104055  0.07392655 -1.04651407]\n",
      " [-0.09985585  1.09393045  0.17886235  0.40900506 -0.66053934]\n",
      " [-0.09985585 -2.4466351   2.07519402  2.57795925 -2.14010913]]\n"
     ]
    }
   ],
   "source": [
    "# llama featureNormalize con los datos cargados\n",
    "X_norm, mu, sigma = featureNormalize(x)\n",
    "\n",
    "print(x)\n",
    "print('Media calculada:', mu)\n",
    "print('Desviación estandar calculada:', sigma)\n",
    "print(X_norm)"
   ]
  },
  {
   "cell_type": "code",
   "execution_count": 202,
   "metadata": {},
   "outputs": [
    {
     "name": "stdout",
     "output_type": "stream",
     "text": [
      "[[ 1.          0.39548821 -0.67635233 -0.47068185 -0.51246086  0.62604309]\n",
      " [ 1.         -0.09985585  0.62185504 -0.04721277 -0.25888793 -0.91785583]\n",
      " [ 1.          0.39548821 -0.14526749  0.00508819  0.00826927 -0.66053934]\n",
      " ...\n",
      " [ 1.         -0.09985585 -0.08625807  0.22104055  0.07392655 -1.04651407]\n",
      " [ 1.         -0.09985585  1.09393045  0.17886235  0.40900506 -0.66053934]\n",
      " [ 1.         -0.09985585 -2.4466351   2.07519402  2.57795925 -2.14010913]]\n"
     ]
    }
   ],
   "source": [
    "# Añade el termino de interseccion a X\n",
    "# (Columna de unos para X0)\n",
    "m = y.size\n",
    "X = np.concatenate([np.ones((m, 1)), X_norm], axis=1)\n",
    "print(X)"
   ]
  },
  {
   "cell_type": "code",
   "execution_count": 203,
   "metadata": {},
   "outputs": [],
   "source": [
    "# funcion del costo\n",
    "def computeCostMulti(X, y, theta):\n",
    "    # Inicializa algunos valores utiles\n",
    "    m = y.shape[0] # numero de ejemplos de entrenamiento\n",
    "    \n",
    "    J = 0\n",
    "    \n",
    "    h = np.dot(X, theta)\n",
    "    \n",
    "    J = (1/(2 * m)) * np.sum(np.square(np.dot(X, theta) - y))\n",
    "    \n",
    "    return J"
   ]
  },
  {
   "cell_type": "code",
   "execution_count": 204,
   "metadata": {},
   "outputs": [],
   "source": [
    "# funcion descenso por gradiente\n",
    "def gradientDescentMulti(X, y, theta, alpha, num_iters):\n",
    "    \n",
    "    # Inicializa algunos valores \n",
    "    m = y.shape[0] # numero de ejemplos de entrenamiento\n",
    "    \n",
    "    # realiza una copia de theta, el cual será acutalizada por el descenso por el gradiente\n",
    "    theta = theta.copy()\n",
    "    \n",
    "    J_history = []\n",
    "    \n",
    "    for i in range(num_iters):\n",
    "        theta = theta - (alpha / m) * (np.dot(X, theta) - y).dot(X)\n",
    "        J_history.append(computeCostMulti(X, y, theta))\n",
    "    \n",
    "    return theta, J_history"
   ]
  },
  {
   "cell_type": "code",
   "execution_count": 224,
   "metadata": {},
   "outputs": [
    {
     "name": "stdout",
     "output_type": "stream",
     "text": [
      "theta calculado por el descenso por el gradiente: [ 305027.69170801  -16117.71446478  102898.17691606  130528.0227711\n",
      "  136558.37431704 -208959.65679647]\n"
     ]
    },
    {
     "data": {
      "image/png": "[encoded data removed]",
      "text/plain": [
       "<Figure size 640x480 with 1 Axes>"
      ]
     },
     "metadata": {},
     "output_type": "display_data"
    }
   ],
   "source": [
    "# Elegir algun valor para alpha (probar varias alternativas)\n",
    "alpha = 0.002 # alpha = 0.003\n",
    "num_iters = 800\n",
    "\n",
    "# inicializa theta y ejecuta el descenso por el gradiente\n",
    "theta = np.zeros(6)\n",
    "theta, J_history = gradientDescentMulti(X, y, theta, alpha, num_iters)\n",
    "\n",
    "# Grafica la convergencia del costo\n",
    "pyplot.plot(np.arange(len(J_history)), J_history, lw=2)\n",
    "pyplot.xlabel('Numero de iteraciones')\n",
    "pyplot.ylabel('Costo J')\n",
    "\n",
    "# Muestra los resultados del descenso por el gradiente\n",
    "print('theta calculado por el descenso por el gradiente: {:s}'.format(str(theta)))"
   ]
  },
  {
   "cell_type": "code",
   "execution_count": 247,
   "metadata": {},
   "outputs": [
    {
     "name": "stdout",
     "output_type": "stream",
     "text": [
      "El precio predecido para un coche con caracteristicas dadas (usando el descenso por el gradiente) es: $1112877.59\n"
     ]
    }
   ],
   "source": [
    "# Estimar el precio para un coche con las siguientes caracteristicas\n",
    "año = 2015 # año que se salio le auto\n",
    "tam_motor = 5.5 # tamaño en litros\n",
    "caballos_fuerza = 130 # caballos de fuerza\n",
    "revoluciones = 500 # torque del motor o revoluciones\n",
    "aceleracion = 0.5 # tiempo que tarda el auto deportivo en acelerar de 0 a 60 millas por hora\n",
    "\n",
    "X_array = [1, año, tam_motor, caballos_fuerza, revoluciones, aceleracion]\n",
    "X_array[1:6] = (X_array[1:6] - mu) / sigma\n",
    "price = np.dot(X_array, theta)   # Se debe cambiar esto\n",
    "\n",
    "print('El precio predecido para un coche con caracteristicas dadas (usando el descenso por el gradiente) es: ${:.2f}'.format(price))"
   ]
  }
 ],
 "metadata": {
  "kernelspec": {
   "display_name": "Python 3",
   "language": "python",
   "name": "python3"
  },
  "language_info": {
   "codemirror_mode": {
    "name": "ipython",
    "version": 3
   },
   "file_extension": ".py",
   "mimetype": "text/x-python",
   "name": "python",
   "nbconvert_exporter": "python",
   "pygments_lexer": "ipython3",
   "version": "3.11.3"
  },
  "orig_nbformat": 4
 },
 "nbformat": 4,
 "nbformat_minor": 2
}
