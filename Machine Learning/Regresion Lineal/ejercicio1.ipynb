{
 "cells": [
  {
   "cell_type": "code",
   "execution_count": 118,
   "metadata": {},
   "outputs": [],
   "source": [
    "# Librerías a utilizar\n",
    "import pandas as pd\n",
    "import matplotlib.pyplot as plt\n",
    "import numpy as np\n",
    "import csv"
   ]
  },
  {
   "cell_type": "code",
   "execution_count": 119,
   "metadata": {},
   "outputs": [
    {
     "data": {
      "text/html": [
       "<div>\n",
       "<style scoped>\n",
       "    .dataframe tbody tr th:only-of-type {\n",
       "        vertical-align: middle;\n",
       "    }\n",
       "\n",
       "    .dataframe tbody tr th {\n",
       "        vertical-align: top;\n",
       "    }\n",
       "\n",
       "    .dataframe thead th {\n",
       "        text-align: right;\n",
       "    }\n",
       "</style>\n",
       "<table border=\"1\" class=\"dataframe\">\n",
       "  <thead>\n",
       "    <tr style=\"text-align: right;\">\n",
       "      <th></th>\n",
       "      <th>label</th>\n",
       "      <th>Total de población</th>\n",
       "    </tr>\n",
       "  </thead>\n",
       "  <tbody>\n",
       "    <tr>\n",
       "      <th>0</th>\n",
       "      <td>2021</td>\n",
       "      <td>12079472</td>\n",
       "    </tr>\n",
       "    <tr>\n",
       "      <th>1</th>\n",
       "      <td>2020</td>\n",
       "      <td>11936162</td>\n",
       "    </tr>\n",
       "    <tr>\n",
       "      <th>2</th>\n",
       "      <td>2019</td>\n",
       "      <td>11777315</td>\n",
       "    </tr>\n",
       "    <tr>\n",
       "      <th>3</th>\n",
       "      <td>2018</td>\n",
       "      <td>11606905</td>\n",
       "    </tr>\n",
       "    <tr>\n",
       "      <th>4</th>\n",
       "      <td>2017</td>\n",
       "      <td>11435533</td>\n",
       "    </tr>\n",
       "    <tr>\n",
       "      <th>...</th>\n",
       "      <td>...</td>\n",
       "      <td>...</td>\n",
       "    </tr>\n",
       "    <tr>\n",
       "      <th>57</th>\n",
       "      <td>1964</td>\n",
       "      <td>4029472</td>\n",
       "    </tr>\n",
       "    <tr>\n",
       "      <th>58</th>\n",
       "      <td>1963</td>\n",
       "      <td>3945729</td>\n",
       "    </tr>\n",
       "    <tr>\n",
       "      <th>59</th>\n",
       "      <td>1962</td>\n",
       "      <td>3864140</td>\n",
       "    </tr>\n",
       "    <tr>\n",
       "      <th>60</th>\n",
       "      <td>1961</td>\n",
       "      <td>3784744</td>\n",
       "    </tr>\n",
       "    <tr>\n",
       "      <th>61</th>\n",
       "      <td>1960</td>\n",
       "      <td>3707515</td>\n",
       "    </tr>\n",
       "  </tbody>\n",
       "</table>\n",
       "<p>62 rows × 2 columns</p>\n",
       "</div>"
      ],
      "text/plain": [
       "    label  Total de población\n",
       "0    2021            12079472\n",
       "1    2020            11936162\n",
       "2    2019            11777315\n",
       "3    2018            11606905\n",
       "4    2017            11435533\n",
       "..    ...                 ...\n",
       "57   1964             4029472\n",
       "58   1963             3945729\n",
       "59   1962             3864140\n",
       "60   1961             3784744\n",
       "61   1960             3707515\n",
       "\n",
       "[62 rows x 2 columns]"
      ]
     },
     "execution_count": 119,
     "metadata": {},
     "output_type": "execute_result"
    }
   ],
   "source": [
    "# Leemos el archivos csv\n",
    "df = pd.read_csv('poblacion_bolivia.csv')\n",
    "df"
   ]
  },
  {
   "cell_type": "code",
   "execution_count": 120,
   "metadata": {},
   "outputs": [],
   "source": [
    "lista_años = []\n",
    "lista_poblacion = []\n",
    "\n",
    "with open('poblacion_bolivia.csv', newline='') as archivo_csv:\n",
    "    lector_csv = csv.reader(archivo_csv, delimiter=',')\n",
    "    next(lector_csv)\n",
    "    for fila in lector_csv:\n",
    "        año = fila[0] # sacamos la columna label=año\n",
    "        año_int = int(año) # convertinmos a enteros\n",
    "        poblacion = fila[1] # sacamos la columna total poblacion\n",
    "        poblacion_int = int(poblacion)\n",
    "        lista_años.append(año_int)\n",
    "        lista_poblacion.append(poblacion_int)\n",
    "\n",
    "arr_años = np.array(lista_años)\n",
    "arr_poblacion = np.array(lista_poblacion)\n"
   ]
  },
  {
   "cell_type": "code",
   "execution_count": 121,
   "metadata": {},
   "outputs": [
    {
     "data": {
      "image/png": "[encoded data removed]",
      "text/plain": [
       "<Figure size 640x480 with 1 Axes>"
      ]
     },
     "metadata": {},
     "output_type": "display_data"
    }
   ],
   "source": [
    "# Gráfica de personas vacunadas vs nuevos muertos de Colombia\n",
    "#plt.scatter(x=arr_años, y=arr_poblacion)\n",
    "plt.plot(arr_años, arr_poblacion, \"b.\")\n",
    "plt.plot(arr_años, 2*arr_años, 'k')\n",
    "plt.plot(2000, 2*4000000, 'sr')\n",
    "plt.xlabel(\"$años$\", fontsize=14)\n",
    "plt.ylabel(\"$poblacion$\", rotation=90, fontsize=14)\n",
    "plt.grid(True)\n",
    "plt.show()"
   ]
  },
  {
   "cell_type": "code",
   "execution_count": 122,
   "metadata": {},
   "outputs": [],
   "source": [
    "def gradient(w, x, y): \n",
    "    # calculamos la derivada de la función de pérdida\n",
    "    # con respecto a los parámteros `w`\n",
    "    dldw = x*w - y\n",
    "    dydw = x\n",
    "    dldw = dldw*dydw\n",
    "    return np.mean(2*dldw)\n",
    "\n",
    "def costo(y_hat, y):\n",
    "    # calculamos la función de pérdida\n",
    "    costos = np.float64((y_hat - y)**2).mean()\n",
    "    return costos\n",
    "\n",
    "\n",
    "def entrenar(epochs, w, alpha):\n",
    "    # iteramos un número determinado de `epochs`\n",
    "    # por cada epoch, calculamos gradientes y\n",
    "    # actualizamos los pesos\n",
    "    weights = [(w, gradient(w, arr_años, arr_poblacion), costo(arr_años*w, arr_poblacion))]\n",
    "    for i in range(epochs):\n",
    "        dw = gradient(w, arr_años, arr_poblacion)\n",
    "        w = w - alpha*dw\n",
    "        weights.append((w, dw, costo(arr_años*w, arr_poblacion)))\n",
    "    return weights"
   ]
  },
  {
   "cell_type": "code",
   "execution_count": 123,
   "metadata": {},
   "outputs": [
    {
     "data": {
      "text/plain": [
       "[(100, 72122111.77419356, -26783827.612903226),\n",
       " (-144144.22354838712, 72122111.77419356, 8.665830366103256e+16),\n",
       " (2343705152.8606153, -1171924648542.0818, 2.1765268594540513e+25),\n",
       " (-37144484706285.7, 1.857341420571928e+16, 5.466988265287547e+33),\n",
       " (5.886896404436123e+17, -2.9436339246415928e+20, 1.3731951233671872e+42),\n",
       " (-9.329931360499473e+21, 4.6652600250699584e+24, 3.449184002849223e+50),\n",
       " (1.4786674201712908e+26, -7.3938035974244785e+28, 8.66364151974185e+58),\n",
       " (-2.3434870579358372e+30, 1.1718174623389272e+33, 2.1761287400321963e+67),\n",
       " (3.714108741285834e+34, -1.8571715449958138e+37, 5.465988271101986e+75),\n",
       " (-5.886357978970981e+38, 2.9433646949225547e+41, 1.3729439453744103e+84),\n",
       " (9.32907802925546e+42, -4.664833332526679e+45, 3.4485530953402973e+92),\n",
       " (-1.478532178757353e+47, 7.393127347688228e+49, 8.66205680971045e+100),\n",
       " (2.3432727186605292e+51, -1.1717102859392024e+54, 2.175730693432958e+109),\n",
       " (-3.7137690426417453e+55, 1.8570016849568057e+58, 5.464988459830365e+117),\n",
       " (5.885819602751176e+59, -2.94309548982772e+62, 1.3726928133258573e+126),\n",
       " (-9.328224776058562e+63, 4.664406679009419e+66, 3.4479223032338217e+134),\n",
       " (1.4783969497128232e+68, -7.392451159802918e+70, 8.660472389546302e+142),\n",
       " (-2.3430583989890534e+72, 1.1716031193420124e+75, 2.1753327196424177e+151),\n",
       " (3.713429375067066e+76, -1.8568318404534826e+79, 5.4639888314392246e+159),\n",
       " (-5.885281275772165e+80, 2.9428263093548355e+83, 1.3724417272131228e+168),\n",
       " (9.32737160090163e+84, -4.663980064514604e+87, 3.447291626508682e+176),\n",
       " (-1.4782617330365682e+89, 7.391775033762886e+91, 8.658888259196354e+184),\n",
       " (2.3428440989196144e+93, -1.171495962546459e+96, 2.174934818647252e+193),\n",
       " (-3.713089738558956e+97, 1.8566620114844237e+100, 5.462989385895118e+201),\n",
       " (5.884742998029448e+101, -2.9425571535016517e+104, 1.3721906870278065e+210),\n",
       " (-9.326518503777542e+105, 4.6635534890386726e+108, 3.4466610651437808e+218),\n",
       " (1.4781265287274593e+110, -7.3910989695624846e+112, 8.657304418607634e+226),\n",
       " (-2.3426298184504216e+114, 1.1713888155516472e+117, 2.1745369904341498e+235),\n",
       " (3.7127501331145735e+118, -1.856492198048209e+121, 5.461990123164598e+243),\n",
       " (-5.8842047695185215e+122, 2.9422880222659165e+125, 1.3719396927615077e+252),\n",
       " (9.325665484679154e+126, -4.6631269525780526e+129, 3.446030619118017e+260)]"
      ]
     },
     "execution_count": 123,
     "metadata": {},
     "output_type": "execute_result"
    }
   ],
   "source": [
    "# establecemos valores iniciales\n",
    "w_inicial = 100\n",
    "numero_iteraciones = 30 \n",
    "alpha = 0.002 # learning rate\n",
    "\n",
    "weights = entrenar(numero_iteraciones, w_inicial, alpha)\n",
    "weights\n"
   ]
  },
  {
   "cell_type": "code",
   "execution_count": 124,
   "metadata": {},
   "outputs": [
    {
     "data": {
      "text/plain": [
       "9325665484679154022424862720075342577529325567789106102099670951399232100214279768876422463799804763440160121943449831630438400"
      ]
     },
     "execution_count": 124,
     "metadata": {},
     "output_type": "execute_result"
    }
   ],
   "source": [
    "# útlimo peso obtenido\n",
    "w = weights[-1][0]\n",
    "w=int(w)\n",
    "w\n",
    "\n",
    "\n"
   ]
  }
 ],
 "metadata": {
  "kernelspec": {
   "display_name": "Python 3",
   "language": "python",
   "name": "python3"
  },
  "language_info": {
   "codemirror_mode": {
    "name": "ipython",
    "version": 3
   },
   "file_extension": ".py",
   "mimetype": "text/x-python",
   "name": "python",
   "nbconvert_exporter": "python",
   "pygments_lexer": "ipython3",
   "version": "3.11.3"
  },
  "orig_nbformat": 4
 },
 "nbformat": 4,
 "nbformat_minor": 2
}
