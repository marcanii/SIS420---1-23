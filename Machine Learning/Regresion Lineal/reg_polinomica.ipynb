{
 "cells": [
  {
   "cell_type": "code",
   "execution_count": 15,
   "metadata": {},
   "outputs": [],
   "source": [
    "# utilizado para manejos de directorios y rutas\n",
    "import os\n",
    "import pandas as pd\n",
    "# Computacion vectorial y cientifica para python\n",
    "import numpy as np\n",
    "import csv\n",
    "# Librerias para graficación (trazado de gráficos)\n",
    "from matplotlib import pyplot\n",
    "from mpl_toolkits.mplot3d import Axes3D  # Necesario para graficar superficies 3D"
   ]
  },
  {
   "cell_type": "code",
   "execution_count": 16,
   "metadata": {},
   "outputs": [
    {
     "data": {
      "text/html": [
       "<div>\n",
       "<style scoped>\n",
       "    .dataframe tbody tr th:only-of-type {\n",
       "        vertical-align: middle;\n",
       "    }\n",
       "\n",
       "    .dataframe tbody tr th {\n",
       "        vertical-align: top;\n",
       "    }\n",
       "\n",
       "    .dataframe thead th {\n",
       "        text-align: right;\n",
       "    }\n",
       "</style>\n",
       "<table border=\"1\" class=\"dataframe\">\n",
       "  <thead>\n",
       "    <tr style=\"text-align: right;\">\n",
       "      <th></th>\n",
       "      <th>edad</th>\n",
       "      <th>ingresos</th>\n",
       "    </tr>\n",
       "  </thead>\n",
       "  <tbody>\n",
       "    <tr>\n",
       "      <th>0</th>\n",
       "      <td>5</td>\n",
       "      <td>20</td>\n",
       "    </tr>\n",
       "    <tr>\n",
       "      <th>1</th>\n",
       "      <td>10</td>\n",
       "      <td>50</td>\n",
       "    </tr>\n",
       "    <tr>\n",
       "      <th>2</th>\n",
       "      <td>15</td>\n",
       "      <td>100</td>\n",
       "    </tr>\n",
       "    <tr>\n",
       "      <th>3</th>\n",
       "      <td>20</td>\n",
       "      <td>500</td>\n",
       "    </tr>\n",
       "    <tr>\n",
       "      <th>4</th>\n",
       "      <td>25</td>\n",
       "      <td>1900</td>\n",
       "    </tr>\n",
       "    <tr>\n",
       "      <th>5</th>\n",
       "      <td>30</td>\n",
       "      <td>4000</td>\n",
       "    </tr>\n",
       "    <tr>\n",
       "      <th>6</th>\n",
       "      <td>35</td>\n",
       "      <td>7500</td>\n",
       "    </tr>\n",
       "    <tr>\n",
       "      <th>7</th>\n",
       "      <td>40</td>\n",
       "      <td>11000</td>\n",
       "    </tr>\n",
       "    <tr>\n",
       "      <th>8</th>\n",
       "      <td>45</td>\n",
       "      <td>12000</td>\n",
       "    </tr>\n",
       "    <tr>\n",
       "      <th>9</th>\n",
       "      <td>50</td>\n",
       "      <td>14000</td>\n",
       "    </tr>\n",
       "    <tr>\n",
       "      <th>10</th>\n",
       "      <td>55</td>\n",
       "      <td>15000</td>\n",
       "    </tr>\n",
       "    <tr>\n",
       "      <th>11</th>\n",
       "      <td>60</td>\n",
       "      <td>15000</td>\n",
       "    </tr>\n",
       "    <tr>\n",
       "      <th>12</th>\n",
       "      <td>65</td>\n",
       "      <td>12000</td>\n",
       "    </tr>\n",
       "    <tr>\n",
       "      <th>13</th>\n",
       "      <td>70</td>\n",
       "      <td>7500</td>\n",
       "    </tr>\n",
       "    <tr>\n",
       "      <th>14</th>\n",
       "      <td>75</td>\n",
       "      <td>4000</td>\n",
       "    </tr>\n",
       "    <tr>\n",
       "      <th>15</th>\n",
       "      <td>80</td>\n",
       "      <td>1900</td>\n",
       "    </tr>\n",
       "  </tbody>\n",
       "</table>\n",
       "</div>"
      ],
      "text/plain": [
       "    edad  ingresos\n",
       "0      5        20\n",
       "1     10        50\n",
       "2     15       100\n",
       "3     20       500\n",
       "4     25      1900\n",
       "5     30      4000\n",
       "6     35      7500\n",
       "7     40     11000\n",
       "8     45     12000\n",
       "9     50     14000\n",
       "10    55     15000\n",
       "11    60     15000\n",
       "12    65     12000\n",
       "13    70      7500\n",
       "14    75      4000\n",
       "15    80      1900"
      ]
     },
     "execution_count": 16,
     "metadata": {},
     "output_type": "execute_result"
    }
   ],
   "source": [
    "# cargar a una variable el dataset sintetico\n",
    "data = pd.read_csv('dataedad.csv')\n",
    "data"
   ]
  },
  {
   "cell_type": "code",
   "execution_count": 17,
   "metadata": {},
   "outputs": [],
   "source": [
    "# Abrir el archivo CSV para lectura\n",
    "with open('dataedad.csv', 'r') as file:\n",
    "    # Crear un objeto lector CSV\n",
    "    reader = csv.reader(file)\n",
    "    # Leer todas las filas en una lista y saltar la primera fila\n",
    "    rows = [row for i, row in enumerate(reader) if i > 0]\n",
    "    # Convertir la lista de filas en una matriz numpy\n",
    "    data = np.array(rows)\n",
    "    # Obtener las columnas de la matriz\n",
    "    col1 = data[:, 0]\n",
    "    y = data[:, 1]\n"
   ]
  },
  {
   "cell_type": "code",
   "execution_count": 18,
   "metadata": {},
   "outputs": [
    {
     "data": {
      "text/plain": [
       "array([[  25.],\n",
       "       [ 100.],\n",
       "       [ 225.],\n",
       "       [ 400.],\n",
       "       [ 625.],\n",
       "       [ 900.],\n",
       "       [1225.],\n",
       "       [1600.],\n",
       "       [2025.],\n",
       "       [2500.],\n",
       "       [3025.],\n",
       "       [3600.],\n",
       "       [4225.],\n",
       "       [4900.],\n",
       "       [5625.],\n",
       "       [6400.]])"
      ]
     },
     "execution_count": 18,
     "metadata": {},
     "output_type": "execute_result"
    }
   ],
   "source": [
    "# añadimos otra caracteristica x2 que sera x1**2 y lo convertimos a arrays\n",
    "x1 = col1.astype(np.float64).reshape(-1, 1)\n",
    "col2 = np.square(x1)\n",
    "x2 = col2.astype(np.float64).reshape(-1, 1)\n",
    "x2"
   ]
  },
  {
   "cell_type": "code",
   "execution_count": 19,
   "metadata": {},
   "outputs": [],
   "source": [
    "# Unir los dos vectores en una matriz de dos columnas\n",
    "x = np.hstack((x1,x2))\n",
    "# Convertir la columna 'y' a un array\n",
    "y = y.astype(np.float64)"
   ]
  },
  {
   "cell_type": "code",
   "execution_count": 20,
   "metadata": {},
   "outputs": [],
   "source": [
    "# normalizacion de caracteristicas\n",
    "def  featureNormalize(X):\n",
    "    X_norm = X.copy()\n",
    "    mu = np.zeros(X.shape[1])\n",
    "    sigma = np.zeros(X.shape[1])\n",
    "\n",
    "    mu = np.mean(X, axis = 0)\n",
    "    sigma = np.std(X, axis = 0)\n",
    "    X_norm = (X - mu) / sigma\n",
    "    \n",
    "    return X_norm, mu, sigma"
   ]
  },
  {
   "cell_type": "code",
   "execution_count": 21,
   "metadata": {},
   "outputs": [
    {
     "name": "stdout",
     "output_type": "stream",
     "text": [
      "[[5.000e+00 2.500e+01]\n",
      " [1.000e+01 1.000e+02]\n",
      " [1.500e+01 2.250e+02]\n",
      " [2.000e+01 4.000e+02]\n",
      " [2.500e+01 6.250e+02]\n",
      " [3.000e+01 9.000e+02]\n",
      " [3.500e+01 1.225e+03]\n",
      " [4.000e+01 1.600e+03]\n",
      " [4.500e+01 2.025e+03]\n",
      " [5.000e+01 2.500e+03]\n",
      " [5.500e+01 3.025e+03]\n",
      " [6.000e+01 3.600e+03]\n",
      " [6.500e+01 4.225e+03]\n",
      " [7.000e+01 4.900e+03]\n",
      " [7.500e+01 5.625e+03]\n",
      " [8.000e+01 6.400e+03]]\n",
      "Media calculada: [  42.5 2337.5]\n",
      "Desviación estandar calculada: [  23.04886114 2015.29309283]\n",
      "[[-1.62697843 -1.14747577]\n",
      " [-1.41004798 -1.11026034]\n",
      " [-1.19311752 -1.04823463]\n",
      " [-0.97618706 -0.96139862]\n",
      " [-0.7592566  -0.84975233]\n",
      " [-0.54232614 -0.71329575]\n",
      " [-0.32539569 -0.55202889]\n",
      " [-0.10846523 -0.36595173]\n",
      " [ 0.10846523 -0.15506429]\n",
      " [ 0.32539569  0.08063343]\n",
      " [ 0.54232614  0.34114145]\n",
      " [ 0.7592566   0.62645975]\n",
      " [ 0.97618706  0.93658833]\n",
      " [ 1.19311752  1.27152721]\n",
      " [ 1.41004798  1.63127637]\n",
      " [ 1.62697843  2.01583582]]\n"
     ]
    }
   ],
   "source": [
    "# llama featureNormalize con los datos cargados\n",
    "X_norm, mu, sigma = featureNormalize(x)\n",
    "\n",
    "print(x)\n",
    "print('Media calculada:', mu)\n",
    "print('Desviación estandar calculada:', sigma)\n",
    "print(X_norm)"
   ]
  },
  {
   "cell_type": "code",
   "execution_count": 22,
   "metadata": {},
   "outputs": [
    {
     "name": "stdout",
     "output_type": "stream",
     "text": [
      "[[ 1.         -1.62697843 -1.14747577]\n",
      " [ 1.         -1.41004798 -1.11026034]\n",
      " [ 1.         -1.19311752 -1.04823463]\n",
      " [ 1.         -0.97618706 -0.96139862]\n",
      " [ 1.         -0.7592566  -0.84975233]\n",
      " [ 1.         -0.54232614 -0.71329575]\n",
      " [ 1.         -0.32539569 -0.55202889]\n",
      " [ 1.         -0.10846523 -0.36595173]\n",
      " [ 1.          0.10846523 -0.15506429]\n",
      " [ 1.          0.32539569  0.08063343]\n",
      " [ 1.          0.54232614  0.34114145]\n",
      " [ 1.          0.7592566   0.62645975]\n",
      " [ 1.          0.97618706  0.93658833]\n",
      " [ 1.          1.19311752  1.27152721]\n",
      " [ 1.          1.41004798  1.63127637]\n",
      " [ 1.          1.62697843  2.01583582]]\n"
     ]
    }
   ],
   "source": [
    "# Añade el termino de interseccion a X\n",
    "# (Columna de unos para X0)\n",
    "m = y.size\n",
    "X = np.concatenate([np.ones((m, 1)), X_norm], axis=1)\n",
    "print(X)"
   ]
  },
  {
   "cell_type": "code",
   "execution_count": 23,
   "metadata": {},
   "outputs": [],
   "source": [
    "# funcion del costo\n",
    "def computeCostMulti(X, y, theta):\n",
    "    # Inicializa algunos valores utiles\n",
    "    m = y.shape[0] # numero de ejemplos de entrenamiento\n",
    "    J = 0\n",
    "    h = np.dot(X, theta)\n",
    "    J = (1/(2 * m)) * np.sum(np.square(np.dot(X, theta) - y))\n",
    "    return J"
   ]
  },
  {
   "cell_type": "code",
   "execution_count": 24,
   "metadata": {},
   "outputs": [],
   "source": [
    "# funcion descenso por gradiente\n",
    "def gradientDescentMulti(X, y, theta, alpha, num_iters):\n",
    "    \n",
    "    # Inicializa algunos valores \n",
    "    m = y.shape[0] # numero de ejemplos de entrenamiento\n",
    "    \n",
    "    # realiza una copia de theta, el cual será acutalizada por el descenso por el gradiente\n",
    "    theta = theta.copy()\n",
    "    \n",
    "    J_history = []\n",
    "    \n",
    "    for i in range(num_iters):\n",
    "        theta = theta - (alpha / m) * (np.dot(X, theta) - y).dot(X)\n",
    "        J_history.append(computeCostMulti(X, y, theta))\n",
    "    \n",
    "    return theta, J_history"
   ]
  },
  {
   "cell_type": "code",
   "execution_count": 25,
   "metadata": {},
   "outputs": [
    {
     "name": "stdout",
     "output_type": "stream",
     "text": [
      "theta calculado por el descenso por el gradiente: [6324.06691625 2606.97776836 -127.89965049]\n"
     ]
    },
    {
     "data": {
      "image/png": "[encoded data removed]",
      "text/plain": [
       "<Figure size 640x480 with 1 Axes>"
      ]
     },
     "metadata": {},
     "output_type": "display_data"
    }
   ],
   "source": [
    "# Elegir algun valor para alpha (probar varias alternativas)\n",
    "alpha = 0.002 # alpha = 0.003\n",
    "num_iters = 1500\n",
    "\n",
    "# inicializa theta y ejecuta el descenso por el gradiente\n",
    "theta = np.zeros(3)\n",
    "theta, J_history = gradientDescentMulti(X, y, theta, alpha, num_iters)\n",
    "\n",
    "# Grafica la convergencia del costo\n",
    "pyplot.plot(np.arange(len(J_history)), J_history, lw=2)\n",
    "pyplot.xlabel('Numero de iteraciones')\n",
    "pyplot.ylabel('Costo J')\n",
    "\n",
    "# Muestra los resultados del descenso por el gradiente\n",
    "print('theta calculado por el descenso por el gradiente: {:s}'.format(str(theta)))"
   ]
  },
  {
   "cell_type": "code",
   "execution_count": 26,
   "metadata": {},
   "outputs": [
    {
     "name": "stdout",
     "output_type": "stream",
     "text": [
      "El ingreso predecido es de: $4673.00\n"
     ]
    }
   ],
   "source": [
    "X_array = [1, 27, 729]\n",
    "X_array[1:3] = (X_array[1:3] - mu) / sigma\n",
    "price = np.dot(X_array, theta)   # Se debe cambiar esto\n",
    "\n",
    "print('El ingreso predecido es de: ${:.2f}'.format(price))\n"
   ]
  },
  {
   "cell_type": "code",
   "execution_count": 27,
   "metadata": {},
   "outputs": [
    {
     "data": {
      "text/plain": [
       "<matplotlib.collections.PathCollection at 0x16a1d1c7590>"
      ]
     },
     "execution_count": 27,
     "metadata": {},
     "output_type": "execute_result"
    },
    {
     "data": {
      "image/png": "[encoded data removed]",
      "text/plain": [
       "<Figure size 640x480 with 1 Axes>"
      ]
     },
     "metadata": {},
     "output_type": "display_data"
    }
   ],
   "source": [
    "pyplot.scatter(x=x1, y=y)"
   ]
  },
  {
   "cell_type": "code",
   "execution_count": 49,
   "metadata": {},
   "outputs": [],
   "source": [
    "# la ecuacion de la normal\n",
    "# Cargar datos\n",
    "# Abrir el archivo CSV para lectura\n",
    "with open('dataedad.csv', 'r') as file:\n",
    "    # Crear un objeto lector CSV\n",
    "    reader = csv.reader(file)\n",
    "    # Leer todas las filas en una lista y saltar la primera fila\n",
    "    rows = [row for i, row in enumerate(reader) if i > 0]\n",
    "    # Convertir la lista de filas en una matriz numpy\n",
    "    data = np.array(rows)\n",
    "    # Obtener las columnas de la matriz\n",
    "    col1 = data[:, 0]\n",
    "    y = data[:, 1]\n",
    "\n",
    "# añadimos otra caracteristica x2 que sera x1**2 y lo convertimos a arrays\n",
    "x1 = col1.astype(np.float64).reshape(-1, 1)\n",
    "col2 = np.square(x1)\n",
    "x2 = col2.astype(np.float64).reshape(-1, 1)\n",
    "x2\n",
    "\n",
    "# Unir los dos vectores en una matriz de dos columnas\n",
    "x = np.hstack((x1,x2))\n",
    "# Convertir la columna 'y' a un array\n",
    "y = y.astype(np.float64)\n",
    "m = y.shape[0] # numero de ejemplos de entrenamiento\n",
    "x = np.concatenate([np.ones((m, 1)), x], axis=1)"
   ]
  },
  {
   "cell_type": "code",
   "execution_count": 47,
   "metadata": {},
   "outputs": [],
   "source": [
    "# funcion de la ecuacion de la normal\n",
    "def normalEqn(X, y):\n",
    "    theta = np.zeros(X.shape[1])\n",
    "    theta = np.dot(np.dot(np.linalg.inv(np.dot(X.T,X)),X.T),y)\n",
    "    return theta"
   ]
  },
  {
   "cell_type": "code",
   "execution_count": 50,
   "metadata": {},
   "outputs": [
    {
     "name": "stdout",
     "output_type": "stream",
     "text": [
      "Theta calculado a partir de la ecuación de la normal: [-8.74526786e+03  7.93890406e+02 -7.84628852e+00]\n",
      "Los ingresos predecidos son: (usando la ecuación de la normal): $6970\n"
     ]
    }
   ],
   "source": [
    "# Calcula los parametros con la ecuación de la normal\n",
    "theta = normalEqn(x, y);\n",
    "\n",
    "# Muestra los resultados optenidos a partir de la aplicación de la ecuación de la normal\n",
    "print('Theta calculado a partir de la ecuación de la normal: {:s}'.format(str(theta)));\n",
    "\n",
    "X_array = [1, 27, 729]\n",
    "ingreso = np.dot(X_array, theta) \n",
    "\n",
    "print('Los ingresos predecidos son: (usando la ecuación de la normal): ${:.0f}'.format(ingreso))\n"
   ]
  }
 ],
 "metadata": {
  "kernelspec": {
   "display_name": "Python 3",
   "language": "python",
   "name": "python3"
  },
  "language_info": {
   "codemirror_mode": {
    "name": "ipython",
    "version": 3
   },
   "file_extension": ".py",
   "mimetype": "text/x-python",
   "name": "python",
   "nbconvert_exporter": "python",
   "pygments_lexer": "ipython3",
   "version": "3.11.2"
  },
  "orig_nbformat": 4
 },
 "nbformat": 4,
 "nbformat_minor": 2
}
